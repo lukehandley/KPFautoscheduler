{
 "cells": [
  {
   "cell_type": "code",
   "execution_count": 1,
   "id": "5fc5eb6f",
   "metadata": {},
   "outputs": [],
   "source": [
    "from collections import defaultdict\n",
    "from gurobipy import *\n",
    "import numpy as np\n",
    "import astropy.units as u\n",
    "import pandas as pd\n",
    "import gurobipy as gp\n",
    "import math\n",
    "import astropy as apy\n",
    "import astroplan as apl\n",
    "from astropy.time import Time\n",
    "from astropy.time import TimeDelta\n",
    "from itertools import combinations\n",
    "import csv\n",
    "import argparse\n",
    "import logging"
   ]
  },
  {
   "cell_type": "code",
   "execution_count": 2,
   "id": "96f6aa9b",
   "metadata": {},
   "outputs": [],
   "source": [
    "allocated_nights = 'example_data/hires_schedule_2022B.csv'\n",
    "observers_sheet = 'example_data/HIRES_observers - PI-requests2022B.csv'\n",
    "twilight_times = 'example_data/twilight_times.csv'\n",
    "current_day = '2022-10-04'\n",
    "def discretize(seconds):\n",
    "    return np.round(seconds/60,1)"
   ]
  },
  {
   "cell_type": "code",
   "execution_count": 3,
   "id": "96920814",
   "metadata": {},
   "outputs": [],
   "source": [
    "############Load Observer information and data files, Pandas is an easy way to manage this############\n",
    "keck = apl.Observer.at_site('W. M. Keck Observatory')\n",
    "\n",
    "#Retrieve the night allocations as csv from jump-config, drop the RM observation nights not part of Community Cadence\n",
    "obs_plan = pd.read_csv(allocated_nights)\n",
    "obs_plan = obs_plan.drop([25,28,35])\n",
    "\n",
    "#Retrieve the generated twilight times information and the HIRES observers sheet as csv's\n",
    "twilight_frame = pd.read_csv(twilight_times, parse_dates=True, index_col=0)\n",
    "all_targets_frame = pd.read_csv(observers_sheet)\n",
    "\n",
    "#Turn the observers sheet into a dataframe that is simplified and useful for caluculations. This assumes the \n",
    "#sheet is left downloaded directly\n",
    "all_targets_frame = all_targets_frame.drop([0,1])\n",
    "\n",
    "\n",
    "############Compute coordinates in decimal RA hours and decimal DEC deg############\n",
    "all_targets_frame['ra'] = all_targets_frame['RAH'] + (1/60)*all_targets_frame['RAM'] + (1/3600)*all_targets_frame['RAS']\n",
    "all_targets_frame['dec'] = all_targets_frame['DECD'] + (1/60)*all_targets_frame['DECM'] + (1/3600)*all_targets_frame['DECS']\n",
    "\n",
    "#For triple shots, we assume the total exposure time is triple the listed nominal for our calculations\n",
    "for index,row in all_targets_frame.iterrows():\n",
    "    if row['N_obs'] == 3.0:\n",
    "        all_targets_frame.at[index,'T_exp(sec)'] = row['T_exp(sec)'] * 3\n",
    "all_targets_frame['discretized_duration'] = all_targets_frame['T_exp(sec)'].apply(discretize)\n",
    "\n",
    "#PI's may choose to input a minimum cadence for each target. If not, one will be generated\n",
    "for index,row in all_targets_frame.iterrows():\n",
    "    if type(row['Cadence']) == str:\n",
    "        all_targets_frame.at[index,'Cadence'] = int(row['Cadence'])\n",
    "all_targets_frame['N_obs(full_semester)'] = all_targets_frame['N_obs(full_semester)'].astype('int')\n",
    "\n",
    "\n",
    "#Remove the RM targets corresponding to the RM nights\n",
    "all_targets_frame = all_targets_frame[all_targets_frame['Starname'] != 'HIP41378']\n",
    "all_targets_frame = all_targets_frame[all_targets_frame['Starname'] != 'TIC256722647']\n",
    "all_targets_frame = all_targets_frame[all_targets_frame['Starname'] != 'TIC419523962']\n",
    "\n",
    "#Remove the duplicated targets from our list that are calibration shots not relevant to community cadence\n",
    "dup = all_targets_frame[all_targets_frame.duplicated(subset='Starname',keep=False)]\n",
    "all_targets_frame = all_targets_frame.drop(dup[dup['N_obs(full_semester)'] == 1].index.tolist())\n",
    "all_targets_frame = all_targets_frame[all_targets_frame['Done'] != 'done']\n",
    "\n",
    "#Finally assign a unique identifier to each request to be used in lookup tables\n",
    "all_targets_frame.reset_index(inplace=True,drop=True)\n",
    "all_targets_frame['request_number'] = all_targets_frame.index.tolist()"
   ]
  },
  {
   "cell_type": "code",
   "execution_count": 4,
   "id": "6ab5848c",
   "metadata": {},
   "outputs": [
    {
     "data": {
      "text/html": [
       "<div>\n",
       "<style scoped>\n",
       "    .dataframe tbody tr th:only-of-type {\n",
       "        vertical-align: middle;\n",
       "    }\n",
       "\n",
       "    .dataframe tbody tr th {\n",
       "        vertical-align: top;\n",
       "    }\n",
       "\n",
       "    .dataframe thead th {\n",
       "        text-align: right;\n",
       "    }\n",
       "</style>\n",
       "<table border=\"1\" class=\"dataframe\">\n",
       "  <thead>\n",
       "    <tr style=\"text-align: right;\">\n",
       "      <th></th>\n",
       "      <th>Date</th>\n",
       "      <th>start</th>\n",
       "      <th>stop</th>\n",
       "      <th>qn_start</th>\n",
       "      <th>qn_stop</th>\n",
       "    </tr>\n",
       "  </thead>\n",
       "  <tbody>\n",
       "    <tr>\n",
       "      <th>0</th>\n",
       "      <td>2022-08-07</td>\n",
       "      <td>0.50</td>\n",
       "      <td>0.75</td>\n",
       "      <td>2.459799e+06</td>\n",
       "      <td>2.459799e+06</td>\n",
       "    </tr>\n",
       "    <tr>\n",
       "      <th>1</th>\n",
       "      <td>2022-08-07</td>\n",
       "      <td>0.75</td>\n",
       "      <td>1.00</td>\n",
       "      <td>2.459799e+06</td>\n",
       "      <td>2.459799e+06</td>\n",
       "    </tr>\n",
       "    <tr>\n",
       "      <th>2</th>\n",
       "      <td>2022-08-08</td>\n",
       "      <td>0.00</td>\n",
       "      <td>0.25</td>\n",
       "      <td>2.459800e+06</td>\n",
       "      <td>2.459800e+06</td>\n",
       "    </tr>\n",
       "    <tr>\n",
       "      <th>3</th>\n",
       "      <td>2022-08-08</td>\n",
       "      <td>0.25</td>\n",
       "      <td>0.50</td>\n",
       "      <td>2.459800e+06</td>\n",
       "      <td>2.459800e+06</td>\n",
       "    </tr>\n",
       "    <tr>\n",
       "      <th>4</th>\n",
       "      <td>2022-08-09</td>\n",
       "      <td>0.50</td>\n",
       "      <td>0.75</td>\n",
       "      <td>2.459801e+06</td>\n",
       "      <td>2.459801e+06</td>\n",
       "    </tr>\n",
       "  </tbody>\n",
       "</table>\n",
       "</div>"
      ],
      "text/plain": [
       "         Date  start  stop      qn_start       qn_stop\n",
       "0  2022-08-07   0.50  0.75  2.459799e+06  2.459799e+06\n",
       "1  2022-08-07   0.75  1.00  2.459799e+06  2.459799e+06\n",
       "2  2022-08-08   0.00  0.25  2.459800e+06  2.459800e+06\n",
       "3  2022-08-08   0.25  0.50  2.459800e+06  2.459800e+06\n",
       "4  2022-08-09   0.50  0.75  2.459801e+06  2.459801e+06"
      ]
     },
     "execution_count": 4,
     "metadata": {},
     "output_type": "execute_result"
    }
   ],
   "source": [
    "#Create simplified dataframe of quarter nights with columns date, start, and stop\n",
    "sta = []\n",
    "sto = []\n",
    "dat = []\n",
    "for index,row in obs_plan.iterrows():\n",
    "    num = int((row['stop'] - row['start'])/.25)\n",
    "    n = row['start']\n",
    "    for i in range(num):\n",
    "        sta.append(n + i*.25)\n",
    "        sto.append(n + (i+1)*.25)\n",
    "        dat.append(row['Date'])\n",
    "plan_dict = {'Date' : dat,'start' : sta, 'stop' : sto}\n",
    "plan = pd.DataFrame.from_dict(plan_dict)\n",
    "dates = plan.Date.to_list()\n",
    "starts = plan.start.to_numpy()\n",
    "stops = plan.stop.to_numpy()\n",
    "night_starts = []\n",
    "night_ends = []\n",
    "for date in dates:\n",
    "    day_start = Time(date,format='iso',scale='utc')\n",
    "    morning_twilight = Time(twilight_frame.loc[date,'12_morning'],format='jd')\n",
    "    evening_twilight = Time(twilight_frame.loc[date,'12_evening'],format='jd')\n",
    "    length1 = np.round((evening_twilight-day_start).jd*24*60,0)*60\n",
    "    length2 = np.round((morning_twilight-day_start).jd*24*60,0)*60\n",
    "    night_starts.append((day_start+TimeDelta(length1,format='sec')).jd)\n",
    "    night_ends.append((day_start+TimeDelta(length2,format='sec')).jd)\n",
    "durations = []\n",
    "for i in range(len(dates)):\n",
    "    diff = night_ends[i]-night_starts[i]\n",
    "    observing_starts = night_starts[i] + diff*starts[i]\n",
    "    observing_ends = night_starts[i] + diff*stops[i]\n",
    "    durations.append(math.floor(((observing_ends-observing_starts)*24)*60))\n",
    "interval_starts = []\n",
    "interval_stops = []\n",
    "for i in range(len(dates)):\n",
    "    diff = night_ends[i]-night_starts[i]\n",
    "    start = night_starts[i] + diff*starts[i]\n",
    "    end = (Time(start,format='jd') + TimeDelta(60*(durations[i]),format='sec')).jd\n",
    "    interval_starts.append(start)\n",
    "    interval_stops.append(end) \n",
    "for i in range(1,len(interval_stops)):\n",
    "    start_min = int(np.round((Time(interval_starts[i],format='jd')-\n",
    "           Time(plan.Date.values[i],format='iso',scale='utc')).jd * 24*60,0))\n",
    "    end_min = int(np.round((Time(interval_stops[i-1],format='jd')-\n",
    "           Time(plan.Date.values[i-1],format='iso',scale='utc')).jd * 24*60,0))\n",
    "    if start_min == end_min:\n",
    "        interval_stops[i-1] = ((Time(interval_stops[i-1],format='jd') - TimeDelta(60,format='sec')).jd)\n",
    "plan['qn_start'] = interval_starts\n",
    "plan['qn_stop'] = interval_stops\n",
    "plan.head()"
   ]
  },
  {
   "cell_type": "code",
   "execution_count": 5,
   "id": "ab04116d",
   "metadata": {},
   "outputs": [],
   "source": [
    "def coordinates(id_num):\n",
    "    ra = all_targets_frame.loc[id_num,'ra']\n",
    "    dec = all_targets_frame.loc[id_num,'dec']\n",
    "    \n",
    "    return ra,dec"
   ]
  },
  {
   "cell_type": "code",
   "execution_count": 6,
   "id": "c2e452bd",
   "metadata": {},
   "outputs": [],
   "source": [
    "current_day = '2022-10-04'\n",
    "day_start = Time(current_day,format='iso',scale='utc')\n",
    "qns = plan[plan['Date'] == current_day].index\n",
    "file = open(\"2022B_nominal.csv\", \"r\")\n",
    "blocked_targets = list(csv.reader(file, delimiter=\",\"))\n",
    "file.close()\n",
    "for i in range(len(blocked_targets)):\n",
    "    blocked_targets[i] = blocked_targets[i][1:]\n",
    "    for j in range(len(blocked_targets[i])):\n",
    "        blocked_targets[i][j] = int(blocked_targets[i][j])\n",
    "nightly_targets = []\n",
    "#for qn in qns:\n",
    "#    nightly_targets += blocked_targets[qn]\n",
    "qn = qns[1]\n",
    "nightly_targets = blocked_targets[qn]\n",
    "\n",
    "#Find reason for duplicates\n",
    "nightly_targets = list(set(nightly_targets))\n",
    "\n",
    "ind_to_id = defaultdict(int)\n",
    "i = 1\n",
    "for targ in nightly_targets:\n",
    "    ind_to_id[i] = targ\n",
    "    i += 1\n",
    "    \n",
    "start = Time(plan.loc[qn,'qn_start'],format='jd')\n",
    "end = Time(plan.loc[qn,'qn_stop'],format='jd')\n",
    "dur = np.round((end-start).jd*24*60,0)*60\n",
    "stop = start + TimeDelta(dur,format='sec')\n",
    "step = TimeDelta(60,format='sec')\n",
    "t = np.arange(start.jd,stop.jd,step.jd)\n",
    "t = Time(t,format='jd')\n",
    "\n",
    "R = len(nightly_targets)+2\n",
    "T = int(dur/60)\n",
    "slots = range(T)\n",
    "\n",
    "min_az = 5.3\n",
    "max_az = 146.2\n",
    "min_alt = 33.3\n",
    "else_min_alt = 18\n",
    "max_alt = 85\n",
    "reservations = []\n",
    "\n",
    "min_time = []\n",
    "max_time = []\n",
    "s = []\n",
    "for i in range(R):\n",
    "    if i == 0 or i == R-1:\n",
    "        min_time.append(0)\n",
    "        max_time.append(T)\n",
    "        s.append(0)\n",
    "    else:\n",
    "        targ = ind_to_id[i]\n",
    "        s.append(all_targets_frame.loc[targ,'discretized_duration'])\n",
    "        ra,dec = coordinates(targ)\n",
    "        coords = apy.coordinates.SkyCoord(ra * u.hourangle, dec * u.deg, frame='icrs')\n",
    "        target = apl.FixedTarget(name=targ, coord=coords)\n",
    "        AZ = keck.altaz(t, target)\n",
    "        alt=AZ.alt.deg\n",
    "        az=AZ.az.deg\n",
    "        deck = np.where((az >= min_az) & (az <= max_az))\n",
    "        deck_height = np.where((alt <= max_alt) & (alt >= min_alt))\n",
    "        first = np.intersect1d(deck,deck_height)\n",
    "        not_deck_1 = np.where((az < min_az))\n",
    "        not_deck_2 = np.where((az > max_az))\n",
    "        not_deck_height = np.where((alt <= max_alt) & (alt >= else_min_alt))\n",
    "        second = np.intersect1d(not_deck_1,not_deck_height)\n",
    "        third = np.intersect1d(not_deck_2,not_deck_height)\n",
    "        good = np.concatenate((first,second,third))\n",
    "        for slot in good:\n",
    "            reservations.append((i,slot))\n",
    "        if len(good > 0):\n",
    "            min_time.append(good[0])\n",
    "            max_time.append(good[-1])\n",
    "        else:\n",
    "            min_time.append(0)\n",
    "            max_time.append(T)\n"
   ]
  },
  {
   "cell_type": "code",
   "execution_count": 7,
   "id": "dd012f27",
   "metadata": {},
   "outputs": [],
   "source": [
    "def distance(targ1, targ2, time, observatory):\n",
    "    if targ1 == 0 and targ2 == R:\n",
    "        return 0\n",
    "    if targ1 == R and targ2 == 0:\n",
    "        return 0\n",
    "    if targ1 == 0 or targ1 == R:\n",
    "        return create_coordinates(ind_to_id[targ2],time,observatory)[1]\n",
    "    if targ2 == 0 or targ2 == R:\n",
    "        return create_coordinates(ind_to_id[targ1],time,observatory)[1]\n",
    "    \n",
    "    t1 = create_coordinates(ind_to_id[targ1],time,observatory)\n",
    "    t2 = create_coordinates(ind_to_id[targ2],time,observatory)\n",
    "\n",
    "    #diff = (t1[0]-t2[0], t1[1]-t2[1])\n",
    "    #return math.sqrt(diff[0]*diff[0]+diff[1]*diff[1])\n",
    "    return np.abs(t1[1]-t2[1])\n",
    "\n",
    "def create_coordinates(id_num,time,observatory):\n",
    "    ra,dec = coordinates(id_num)\n",
    "    \n",
    "    coords = apy.coordinates.SkyCoord(ra * u.hourangle, dec * u.deg, frame='icrs')\n",
    "    target = apl.FixedTarget(name=index, coord=coords)\n",
    "    AZ = observatory.altaz(time, target)\n",
    "    \n",
    "    return AZ.alt.deg,AZ.az.deg"
   ]
  },
  {
   "cell_type": "code",
   "execution_count": 8,
   "id": "c306fb8a",
   "metadata": {},
   "outputs": [
    {
     "name": "stdout",
     "output_type": "stream",
     "text": [
      "CPU times: total: 6min 43s\n",
      "Wall time: 6min 44s\n"
     ]
    }
   ],
   "source": [
    "%%time\n",
    "from itertools import permutations\n",
    "\n",
    "dist = defaultdict(float)\n",
    "start_slots = t[:-1]\n",
    "for i in range(len(start_slots)):\n",
    "    for targ1,targ2 in permutations(range(R), 2):\n",
    "        dist[(targ1,targ2,i)] = distance(targ1, targ2, start_slots[i], keck)"
   ]
  },
  {
   "cell_type": "code",
   "execution_count": 9,
   "id": "f4232672",
   "metadata": {},
   "outputs": [
    {
     "name": "stdout",
     "output_type": "stream",
     "text": [
      "Set parameter Username\n",
      "Academic license - for non-commercial use only - expires 2023-07-05\n"
     ]
    }
   ],
   "source": [
    "####Variables####\n",
    "\n",
    "Mod = Model('TDTSP')\n",
    "\n",
    "yi = Mod.addVars(range(R),vtype=GRB.BINARY,name='yi')\n",
    "xijm = Mod.addVars(range(R),range(R),range(T),vtype=GRB.BINARY,name='xijm')\n",
    "ti = Mod.addVars(range(R),vtype=GRB.INTEGER,lb=0,name='ti')\n",
    "#tijm = Mod.addVars(range(R),range(R),range(T),vtype=GRB.BINARY,name='tijm')"
   ]
  },
  {
   "cell_type": "code",
   "execution_count": 10,
   "id": "8808ab2c",
   "metadata": {},
   "outputs": [],
   "source": [
    "start_origin = Mod.addConstr(gp.quicksum(xijm[0,j,m] for j in range(R) for m in range(T)) == 1,\n",
    "                           'start_origin')\n",
    "end_origin = Mod.addConstr(gp.quicksum(xijm[i,R-1,m] for i in range(R) for m in range(T)) == 1,\n",
    "                           'end_origin')"
   ]
  },
  {
   "cell_type": "code",
   "execution_count": 11,
   "id": "e94e0deb",
   "metadata": {},
   "outputs": [],
   "source": [
    "visit_once = Mod.addConstrs((gp.quicksum(xijm[i,j,m] for i in range(R)[:-1] for m in range(T)) == yi[j]\n",
    "                         for j in range(R)[1:]), 'visit_once')"
   ]
  },
  {
   "cell_type": "code",
   "execution_count": 12,
   "id": "e8349c5e",
   "metadata": {},
   "outputs": [],
   "source": [
    "flow_constr = Mod.addConstrs(((gp.quicksum(xijm[i,k,m] for i in range(R)[:-1] for m in range(T))\n",
    "                           - gp.quicksum(xijm[k,j,m] for j in range(R)[1:] for m in range(T)) == 0)\n",
    "                          for k in range(R)[:-1][1:]), 'flow_constr')"
   ]
  },
  {
   "cell_type": "code",
   "execution_count": 13,
   "id": "80af889a",
   "metadata": {},
   "outputs": [],
   "source": [
    "exp_constr = Mod.addConstrs((ti[j] >= gp.quicksum((m + dist[(i,j,m)]/60 + s[j])*xijm[i,j,m] \n",
    "                                                  for m in range(T) for i in range(R)[:-1])\n",
    "                           for j in range(R)[1:])\n",
    "                          , 'exp_constr')"
   ]
  },
  {
   "cell_type": "code",
   "execution_count": 14,
   "id": "c5e13ea1",
   "metadata": {},
   "outputs": [],
   "source": [
    "t_def_constr = Mod.addConstrs((ti[i] == gp.quicksum(m*xijm[i,j,m] for j in range(R)[1:]\n",
    "                                                 for m in range(T))\n",
    "                             for i in range(R)[:-1]),'t_def_constr')"
   ]
  },
  {
   "cell_type": "code",
   "execution_count": 15,
   "id": "809670ad",
   "metadata": {},
   "outputs": [],
   "source": [
    "rise_constr = Mod.addConstrs((ti[i] >= min_time[i]*yi[i] for i in range(R)),'rise_constr')\n",
    "set_constr = Mod.addConstrs((ti[i] <= max_time[i]*yi[i] for i in range(R)),'set_constr')"
   ]
  },
  {
   "cell_type": "code",
   "execution_count": 16,
   "id": "6c946908",
   "metadata": {},
   "outputs": [],
   "source": [
    "priority_param = 50\n",
    "slew_param = 1/360\n",
    "\n",
    "Mod.setObjective(priority_param*gp.quicksum(yi[j] for j in range(R)) \n",
    "                 -slew_param *gp.quicksum(dist[(i,j,m)]*xijm[i,j,m] for i in range(R)[:-1] \n",
    "                               for j in range(R)[1:] for m in range(T))\n",
    "                 - ti[R-1],GRB.MAXIMIZE)"
   ]
  },
  {
   "cell_type": "code",
   "execution_count": 17,
   "id": "9f5124d3",
   "metadata": {
    "scrolled": true
   },
   "outputs": [
    {
     "name": "stdout",
     "output_type": "stream",
     "text": [
      "Set parameter TimeLimit to value 600\n",
      "Gurobi Optimizer version 9.5.1 build v9.5.1rc2 (win64)\n",
      "Thread count: 6 physical cores, 12 logical processors, using up to 12 threads\n",
      "Optimize a model with 99 rows, 45407 columns and 196408 nonzeros\n",
      "Model fingerprint: 0x8b29d00d\n",
      "Variable types: 0 continuous, 45407 integer (45390 binary)\n",
      "Coefficient statistics:\n",
      "  Matrix range     [9e-02, 2e+02]\n",
      "  Objective range  [1e-06, 5e+01]\n",
      "  Bounds range     [1e+00, 1e+00]\n",
      "  RHS range        [1e+00, 1e+00]\n",
      "Found heuristic solution: objective 50.0000000\n",
      "Presolve removed 18 rows and 8979 columns\n",
      "Presolve time: 0.25s\n",
      "Presolved: 81 rows, 36428 columns, 172736 nonzeros\n",
      "Variable types: 0 continuous, 36428 integer (36412 binary)\n",
      "\n",
      "Root relaxation: objective 7.289745e+02, 522 iterations, 0.12 seconds (0.20 work units)\n",
      "\n",
      "    Nodes    |    Current Node    |     Objective Bounds      |     Work\n",
      " Expl Unexpl |  Obj  Depth IntInf | Incumbent    BestBd   Gap | It/Node Time\n",
      "\n",
      "     0     0  728.97454    0   62   50.00000  728.97454  1358%     -    0s\n",
      "H    0     0                     142.9591769  728.97454   410%     -    0s\n",
      "H    0     0                     291.5806208  728.97454   150%     -    1s\n",
      "     0     0  728.36507    0   64  291.58062  728.36507   150%     -    2s\n",
      "     0     0  725.95974    0   62  291.58062  725.95974   149%     -    6s\n",
      "H    0     0                     304.5642972  725.95974   138%     -    6s\n",
      "     0     0  725.91351    0   71  304.56430  725.91351   138%     -    7s\n",
      "H    0     0                     345.5496895  725.91351   110%     -    7s\n",
      "H    0     0                     379.6002356  725.88887  91.2%     -    7s\n",
      "H    0     0                     411.6035636  725.88887  76.4%     -    7s\n",
      "     0     0  725.88887    0   73  411.60356  725.88887  76.4%     -    7s\n",
      "     0     0  725.88887    0   70  411.60356  725.88887  76.4%     -    7s\n",
      "     0     0  725.82522    0   74  411.60356  725.82522  76.3%     -    8s\n",
      "     0     0  725.80056    0   72  411.60356  725.80056  76.3%     -    8s\n",
      "     0     0  725.79188    0   77  411.60356  725.79188  76.3%     -    8s\n",
      "     0     0  725.79161    0   79  411.60356  725.79161  76.3%     -    8s\n",
      "     0     0  725.77988    0   80  411.60356  725.77988  76.3%     -    8s\n",
      "     0     0  725.75192    0   80  411.60356  725.75192  76.3%     -    9s\n",
      "     0     0  725.74737    0   85  411.60356  725.74737  76.3%     -    9s\n",
      "     0     0  725.74492    0   86  411.60356  725.74492  76.3%     -    9s\n",
      "     0     0  725.74383    0   89  411.60356  725.74383  76.3%     -    9s\n",
      "     0     0  725.73933    0   87  411.60356  725.73933  76.3%     -    9s\n",
      "     0     0  725.73930    0   89  411.60356  725.73930  76.3%     -    9s\n",
      "     0     0  725.73506    0   87  411.60356  725.73506  76.3%     -    9s\n",
      "H    0     0                     476.5694664  725.73506  52.3%     -    9s\n",
      "     0     0  725.72753    0   90  476.56947  725.72753  52.3%     -    9s\n",
      "     0     0  725.71538    0   94  476.56947  725.71538  52.3%     -    9s\n",
      "     0     0  725.71222    0   97  476.56947  725.71222  52.3%     -    9s\n",
      "     0     0  725.71214    0  100  476.56947  725.71214  52.3%     -   10s\n",
      "     0     0  725.70139    0  101  476.56947  725.70139  52.3%     -   10s\n",
      "     0     0  725.69997    0   99  476.56947  725.69997  52.3%     -   10s\n",
      "     0     0  725.69638    0  104  476.56947  725.69638  52.3%     -   10s\n",
      "     0     0  725.69612    0  108  476.56947  725.69612  52.3%     -   10s\n",
      "     0     0  725.68832    0  105  476.56947  725.68832  52.3%     -   10s\n",
      "     0     0  725.68832    0  105  476.56947  725.68832  52.3%     -   10s\n",
      "     0     2  725.60467    0  105  476.56947  725.60467  52.3%     -   11s\n",
      "H   31    38                     479.5666059  725.60467  51.3%  91.5   13s\n",
      "H   31    38                     527.0330664  725.60467  37.7%  91.5   13s\n",
      "H   33    38                     576.3954465  725.60467  25.9%  86.2   13s\n",
      "   268   280  725.55508   51  106  576.39545  725.60467  25.9%  23.8   15s\n",
      "H  789   777                     600.1565574  725.60467  20.9%  21.0   19s\n",
      "H  790   751                     626.3956281  725.60467  15.8%  21.0   19s\n",
      "H  794   740                     676.4049253  725.60467  7.27%  20.9   19s\n",
      "   867   808  725.41788  139  106  676.40493  725.60467  7.27%  21.0   20s\n",
      "  1799  1728  725.30258  256  101  676.40493  725.60467  7.27%  18.9   25s\n",
      "  2640  2590  725.19787  364   97  676.40493  725.60467  7.27%  17.6   30s\n",
      "H 2641  2590                     676.4231168  725.60467  7.27%  17.6   30s\n",
      "H 2667  2590                     676.4528318  725.60467  7.27%  17.6   30s\n",
      "  3547  3482  725.04231  468  102  676.45283  725.60467  7.27%  17.2   35s\n",
      "H 3738  1666                     700.2139426  725.60467  3.63%  17.2   36s\n",
      "  4308  2121  724.89794  574  102  700.21394  725.60467  3.63%  17.2   40s\n",
      "H 4782  2410                     700.2151856  725.60467  3.63%  17.5   44s\n",
      "H 4784  2410                     700.2161107  725.60467  3.63%  17.5   44s\n",
      "  4798  2446  724.78478  639   96  700.21611  725.60467  3.63%  17.6   54s\n",
      "  4834  2576  724.76738  645   94  700.21611  725.60467  3.63%  17.6   55s\n",
      "H 5907  3746                     700.2167799  725.60467  3.63%  17.8   60s\n",
      "  6652  4224  724.24563  498   64  700.21678  725.60467  3.63%  16.8   77s\n",
      "  6662  4231  707.33117  350   91  700.21678  718.03683  2.54%  16.8   80s\n",
      "  6680  4243  716.95445  584  120  700.21678  716.95445  2.39%  16.7   85s\n",
      "  6697  4255  716.86182   97   64  700.21678  716.86182  2.38%  17.4   90s\n",
      "H 6710  4050                     700.2184541  716.86182  2.38%  17.3   92s\n",
      "H 6717  3851                     702.2149375  716.86182  2.09%  17.3   95s\n",
      "  6725  3860  716.85589   21  143  702.21494  716.85589  2.08%  17.7  100s\n",
      "  6737  3870 infeasible   24       702.21494  716.78763  2.08%  19.7  109s\n",
      "  6743  3874  716.18101   24  130  702.21494  716.18101  1.99%  19.9  111s\n",
      "  6774  3896  716.18069   27  129  702.21494  716.18069  1.99%  20.7  115s\n",
      "  6799  3908  716.17387   29  127  702.21494  716.17973  1.99%  21.4  121s\n",
      "H 6811  3718                     702.2161793  716.17973  1.99%  21.7  122s\n",
      "  6842  3739  715.81473   31  123  702.21618  716.17202  1.99%  22.5  125s\n",
      "  6902  3773  715.14533   34  133  702.21618  716.15589  1.99%  24.0  131s\n",
      "  6975  3816  716.12488   37  131  702.21618  716.13745  1.98%  25.0  136s\n",
      "  7041  3869  715.99477   39  108  702.21618  716.13745  1.98%  25.8  140s\n",
      "  7136  3921  716.08364   42  128  702.21618  716.13745  1.98%  28.6  148s\n",
      "  7180  3918  716.08284   43  127  702.21618  716.13745  1.98%  33.7  150s\n",
      "  7211  3934  716.08122   45  131  702.21618  716.13745  1.98%  36.6  155s\n",
      "  7310  3991  716.06908   48  125  702.21618  716.13745  1.98%  39.6  161s\n",
      "  7377  4029  715.70654   50  116  702.21618  716.13745  1.98%  41.6  168s\n",
      "  7401  4034  715.98597   51  129  702.21618  716.13745  1.98%  42.7  170s\n",
      "H 7424  3863                     702.2172439  716.13745  1.98%  43.5  173s\n",
      "H 7445  3661                     702.2312784  716.13745  1.98%  44.1  173s\n",
      "  7446  3705  715.98503   52  129  702.23128  716.13745  1.98%  44.2  175s\n",
      "  7579  3797  715.97665   55  124  702.23128  716.13745  1.98%  45.2  180s\n",
      "  7734  3891  715.69026   57  106  702.23128  716.13745  1.98%  46.7  187s\n",
      "  7788  3974  715.15712   58  134  702.23128  716.13745  1.98%  48.7  191s\n",
      "  7893  3998  715.86830   59  122  702.23128  716.13745  1.98%  49.4  197s\n",
      "  7966  4022 infeasible   60       702.23128  716.13745  1.98%  51.8  201s\n",
      "  8038  4041 infeasible   60       702.23128  716.13745  1.98%  55.1  209s\n",
      "  8087  4120  715.15705   59  133  702.23128  716.13745  1.98%  55.4  219s\n",
      "  8184  4138  714.72211   61  111  702.23128  716.13745  1.98%  66.8  224s\n",
      "  8238  4199  715.15121   62  137  702.23128  716.13745  1.98%  68.6  228s\n",
      "  8320  4236  714.73155   63  116  702.23128  716.13745  1.98%  70.2  231s\n",
      "  8384  4342  715.12324   65  124  702.23128  716.13745  1.98%  70.8  238s\n",
      "  8519  4347  715.10071   68  124  702.23128  716.13745  1.98%  73.5  243s\n",
      "  8575  4401  715.03114   70  123  702.23128  716.13745  1.98%  75.8  246s\n",
      "  8652  4444  714.73122   71  114  702.23128  716.13745  1.98%  77.6  251s\n",
      "  8737  4471  714.70280   72  114  702.23128  716.13745  1.98%  80.3  258s\n",
      "  8810  4513  714.80442   75  125  702.23128  716.13745  1.98%  84.3  266s\n"
     ]
    },
    {
     "name": "stdout",
     "output_type": "stream",
     "text": [
      "  8889  4547  714.13574   76  136  702.23128  716.13745  1.98%  88.4  277s\n",
      "  8977  4545 infeasible   77       702.23128  716.13745  1.98%  93.1  283s\n",
      "  9010  4566 infeasible   78       702.23128  716.13745  1.98%  94.6  287s\n",
      "H 9023  4395                     702.2318855  716.13745  1.98%  95.4  287s\n",
      "H 9039  4129                     702.3202034  716.13745  1.97%  95.7  287s\n",
      "  9049  4177     cutoff   79       702.32020  716.13231  1.97%  97.0  292s\n",
      "  9118  4232  715.81086   34   70  702.32020  716.13178  1.97%  98.9  299s\n",
      "  9214  4276 infeasible   44       702.32020  716.13178  1.97%   109  304s\n",
      "  9304  4368  715.76525   61   58  702.32020  716.13178  1.97%   110  325s\n",
      "  9445  4404  714.64579  134   48  702.32020  716.13156  1.97%   110  332s\n",
      "  9556  4426  716.12880   34  133  702.32020  716.13156  1.97%   112  339s\n",
      "  9625  4553  716.12599   39  133  702.32020  716.13156  1.97%   115  346s\n",
      "H 9735  4366                     702.3241984  716.13156  1.97%   116  346s\n",
      "  9802  4418  703.97244   94   60  702.32420  716.13156  1.97%   117  357s\n",
      "  9884  4485  703.81380  105   58  702.32420  716.13156  1.97%   119  364s\n",
      "  9996  4612  711.89692   80   74  702.32420  716.13156  1.97%   122  374s\n",
      " 10168  4747  710.98938   86   71  702.32420  716.13156  1.97%   124  384s\n",
      " 10448  4764  704.74307  120   29  702.32420  716.13156  1.97%   126  393s\n",
      " 10642  4754     cutoff  166       702.32420  716.13156  1.97%   128  401s\n",
      "H10677  2170                     704.5903609  716.13156  1.64%   127  401s\n",
      " 10780  2162 infeasible  201       704.59036  716.13156  1.64%   130  410s\n",
      " 11015  2131  715.00445   40  103  704.59036  716.12558  1.64%   131  420s\n",
      " 11069  2186  714.99231   42   99  704.59036  716.12558  1.64%   133  436s\n",
      " 11190  2196  711.48339   54   84  704.59036  716.12558  1.64%   136  446s\n",
      "H11255  2130                     704.5905069  716.12558  1.64%   140  456s\n",
      "H11257  1909                     705.5868658  716.12558  1.49%   140  456s\n",
      "H11297  1616                     708.7145359  716.12558  1.05%   141  456s\n",
      "H11363  1584                     708.7145976  716.12558  1.05%   142  467s\n",
      "H11385  1466                     708.7160071  716.11482  1.04%   143  467s\n",
      "H11592  1513                     708.7174351  716.11482  1.04%   145  477s\n",
      " 11908  1668  712.60896   62   97  708.71744  716.11482  1.04%   146  488s\n",
      "H12136  1484                     708.8159674  716.11482  1.03%   148  488s\n",
      " 12251  1537  711.90787  185   82  708.81597  716.11482  1.03%   150  500s\n",
      " 12410  1782  711.72654  282   31  708.81597  716.04428  1.02%   154  513s\n",
      " 12771  1783  713.78174   77   64  708.81597  716.04428  1.02%   155  538s\n",
      " 12774  1785  711.92862   92   69  708.81597  716.04428  1.02%   155  540s\n",
      " 12793  1798  711.88769  222  155  708.81597  716.04428  1.02%   155  545s\n",
      " 12802  1804  714.11036   69  168  708.81597  716.04428  1.02%   155  550s\n",
      " 12809  1808  711.92006  152  177  708.81597  716.04428  1.02%   155  556s\n",
      " 12812  1813  716.04428   34  181  708.81597  716.04428  1.02%   155  566s\n",
      " 12814  1814  716.04428   35  178  708.81597  716.04428  1.02%   155  570s\n",
      " 12818  1812 infeasible   36       708.81597  716.04428  1.02%   156  578s\n",
      " 12823  1814 infeasible   37       708.81597  716.04428  1.02%   157  583s\n",
      " 12828  1815  716.04428   38  118  708.81597  716.04428  1.02%   157  590s\n",
      " 12834  1818  715.72125   39   94  708.81597  716.04428  1.02%   158  599s\n",
      " 12840  1817     cutoff   40       708.81597  716.04428  1.02%   158  600s\n",
      "\n",
      "Cutting planes:\n",
      "  Implied bound: 1\n",
      "  Clique: 5\n",
      "  MIR: 75\n",
      "  StrongCG: 49\n",
      "  Flow cover: 43\n",
      "  GUB cover: 11\n",
      "\n",
      "Explored 12845 nodes (2035869 simplex iterations) in 600.07 seconds (768.17 work units)\n",
      "Thread count was 12 (of 12 available processors)\n",
      "\n",
      "Solution count 10: 708.816 708.717 708.716 ... 702.32\n",
      "\n",
      "Time limit reached\n",
      "Best objective 7.088159674000e+02, best bound 7.160442752762e+02, gap 1.0198%\n"
     ]
    }
   ],
   "source": [
    "Mod.Params.TimeLimit = 600\n",
    "Mod.update()\n",
    "Mod.optimize()"
   ]
  },
  {
   "cell_type": "code",
   "execution_count": 18,
   "id": "6ebe9879",
   "metadata": {},
   "outputs": [],
   "source": [
    "scheduled_targets = []\n",
    "for i in range(R)[1:][:-1]:\n",
    "    if yi[i].X == 1:\n",
    "        v = ti[i]\n",
    "        scheduled_targets.append((int(v.VarName[3:-1]),int(v.X)))\n",
    "\n",
    "start_times = []\n",
    "unordered_times = []\n",
    "\n",
    "for i in range(len(scheduled_targets)):\n",
    "    unordered_times.append(int(scheduled_targets[i][1]))\n",
    "order = np.argsort(unordered_times)\n",
    "scheduled_targets = [scheduled_targets[i] for i in order]"
   ]
  },
  {
   "cell_type": "code",
   "execution_count": 19,
   "id": "0375edae",
   "metadata": {},
   "outputs": [
    {
     "data": {
      "text/plain": [
       "15"
      ]
     },
     "execution_count": 19,
     "metadata": {},
     "output_type": "execute_result"
    }
   ],
   "source": [
    "len(scheduled_targets)"
   ]
  },
  {
   "cell_type": "code",
   "execution_count": 50,
   "id": "bf25f30b",
   "metadata": {},
   "outputs": [
    {
     "data": {
      "text/plain": [
       "[<matplotlib.lines.Line2D at 0x1eb131c1070>]"
      ]
     },
     "execution_count": 50,
     "metadata": {},
     "output_type": "execute_result"
    },
    {
     "data": {
      "image/png": "[encoded data removed]",
      "text/plain": [
       "<Figure size 432x288 with 1 Axes>"
      ]
     },
     "metadata": {
      "needs_background": "light"
     },
     "output_type": "display_data"
    }
   ],
   "source": [
    "import matplotlib.pyplot as plt\n",
    "obs_time=[]\n",
    "az_path=[]\n",
    "alt_path=[]\n",
    "names=[]\n",
    "targ_list=[]\n",
    "for pair in scheduled_targets:\n",
    "    targ=pair[0]\n",
    "    time=t[pair[1]]\n",
    "    exp=s[targ]\n",
    "    targ_list.append(targ)\n",
    "    names.append(all_targets_frame.loc[ind_to_id[targ],'Starname'])\n",
    "    time1=time-TimeDelta(60*exp,format='sec')\n",
    "    obs_time.append(time1.jd)\n",
    "    obs_time.append(time.jd)\n",
    "    az_path.append(create_coordinates(ind_to_id[targ],time1,keck)[1])\n",
    "    az_path.append(create_coordinates(ind_to_id[targ],time,keck)[1])\n",
    "    alt_path.append(create_coordinates(ind_to_id[targ],time1,keck)[0])\n",
    "    alt_path.append(create_coordinates(ind_to_id[targ],time,keck)[0])\n",
    "#x=np.array(x)-2459856.7\n",
    "plt.plot(obs_time,az_path)\n",
    "#plt.ylim(300,370)\n",
    "#plt.xlim(.07,.09)\n"
   ]
  },
  {
   "cell_type": "code",
   "execution_count": 21,
   "id": "6a186c1c",
   "metadata": {},
   "outputs": [
    {
     "data": {
      "text/plain": [
       "[Text(0.5, 0, 'Observation Time (JD)')]"
      ]
     },
     "execution_count": 21,
     "metadata": {},
     "output_type": "execute_result"
    },
    {
     "data": {
      "image/png": "[encoded data removed]",
      "text/plain": [
       "<Figure size 1008x576 with 3 Axes>"
      ]
     },
     "metadata": {
      "needs_background": "light"
     },
     "output_type": "display_data"
    }
   ],
   "source": [
    "fig, axs = plt.subplots(2,sharex=True,sharey=False,figsize = (14,8))\n",
    "axs[0].plot(obs_time,az_path,color = 'indigo')\n",
    "axs[0].vlines(obs_time,0,360,linestyle = 'dashed', alpha = .5, color = 'gray')\n",
    "axs[0].set_yticks([0,120,240,360],[0,120,240,360])\n",
    "ax2 = axs[0].twiny()\n",
    "ax2.set_xlim(axs[0].get_xlim())\n",
    "\n",
    "topticks = []\n",
    "index = 0\n",
    "while index < len(obs_time):\n",
    "    val = (obs_time[index+1]+obs_time[index])/2\n",
    "    topticks.append(val)\n",
    "    index+=2\n",
    "    \n",
    "ax2.set_xticks(topticks)\n",
    "ax2.set_xticklabels(names,rotation=45)\n",
    "axs[1].plot(obs_time,alt_path,color = 'seagreen')\n",
    "axs[1].vlines(obs_time,0,90,linestyle = 'dashed', alpha = .5, color = 'gray')\n",
    "#axs[2].plot(obs_time,airmass_path,color = 'firebrick')\n",
    "#axs[2].vlines(obs_time,1,3.5,linestyle = 'dashed', alpha = .5, color = 'gray')\n",
    "\n",
    "bottomticks = []\n",
    "bottomticks.append(obs_time[0])\n",
    "for i in range(1,4):\n",
    "    val = obs_time[0] + i*(obs_time[-1]-obs_time[0])/4\n",
    "    bottomticks.append(val)\n",
    "bottomticks.append(obs_time[-1])\n",
    "\n",
    "'''axs[2].set_xticks(bottomticks)\n",
    "axs[2].set_xticklabels(['5:00','5:15','5:30','5:45','6:00'])\n",
    "plt.suptitle('ILP Plan 2022-02-14')'''\n",
    "i = 0\n",
    "while i < len(az_path):\n",
    "    axs[0].fill_betweenx([0,360],obs_time[i],obs_time[i+1],color = 'orange',alpha = .25)\n",
    "    axs[1].fill_betweenx([0,90],obs_time[i],obs_time[i+1],color = 'orange',alpha = .25)\n",
    "    #axs[2].fill_betweenx([1,3.5],obs_time[i],obs_time[i+1],color = 'orange',alpha = .25)\n",
    "    i += 2\n",
    "\n",
    "axs[0].set(ylabel='Azimuth Angle (Deg)')\n",
    "axs[1].set(ylabel='Elevation Angle (Deg)')\n",
    "#axs[2].set(ylabel='Airmass')\n",
    "axs[1].set(xlabel='Observation Time (JD)')"
   ]
  },
  {
   "cell_type": "code",
   "execution_count": 24,
   "id": "8bfca3cb",
   "metadata": {
    "scrolled": true
   },
   "outputs": [
    {
     "data": {
      "text/plain": [
       "\"def conflicting_constraints(model,time_limit):\\n\\n    #Utilize Gurobi's built in tools for finding model infeasibility\\n    model.Params.TimeLimit = time_limit\\n    search = model.computeIIS()\\n\\n    #Print the names of all conflicting constraints for debugging\\n    for c in model.getConstrs():\\n        if c.IISConstr:\\n            print('%s' % c.ConstrName)\\n    for c in model.getGenConstrs():\\n        if c.IISGenConstr:\\n            print('%s' % c.GenConstrName)\\nconflicting_constraints(Mod,60)\""
      ]
     },
     "execution_count": 24,
     "metadata": {},
     "output_type": "execute_result"
    }
   ],
   "source": [
    "'''def conflicting_constraints(model,time_limit):\n",
    "\n",
    "    #Utilize Gurobi's built in tools for finding model infeasibility\n",
    "    model.Params.TimeLimit = time_limit\n",
    "    search = model.computeIIS()\n",
    "\n",
    "    #Print the names of all conflicting constraints for debugging\n",
    "    for c in model.getConstrs():\n",
    "        if c.IISConstr:\n",
    "            print('%s' % c.ConstrName)\n",
    "    for c in model.getGenConstrs():\n",
    "        if c.IISGenConstr:\n",
    "            print('%s' % c.GenConstrName)\n",
    "conflicting_constraints(Mod,60)'''"
   ]
  },
  {
   "cell_type": "code",
   "execution_count": 34,
   "id": "cdd7b394",
   "metadata": {},
   "outputs": [
    {
     "data": {
      "text/plain": [
       "[0.0,\n",
       " 6.099999770522118,\n",
       " 15.899998918175697,\n",
       " 32.899997904896736,\n",
       " 50.69999724626541,\n",
       " 52.599996998906136,\n",
       " 55.29999643564224,\n",
       " 70.19999608397484,\n",
       " 78.69999557733536,\n",
       " 79.59999606013298,\n",
       " 80.0999940186739,\n",
       " 105.39999425411224,\n",
       " 111.69999361038208,\n",
       " 117.09999315440655,\n",
       " 123.89999248087406]"
      ]
     },
     "execution_count": 34,
     "metadata": {},
     "output_type": "execute_result"
    }
   ],
   "source": [
    "time_array = []\n",
    "for i in range(len(obs_time)):\n",
    "    if i % 2 == 0:\n",
    "        time_array.append((obs_time[i] - obs_time[0])*1440)\n",
    "time_array"
   ]
  },
  {
   "cell_type": "code",
   "execution_count": 51,
   "id": "34f7f654",
   "metadata": {},
   "outputs": [
    {
     "data": {
      "text/plain": [
       "[5, 11, 13, 9, 14, 15, 12, 4, 7, 8, 6, 2, 3, 10, 1]"
      ]
     },
     "execution_count": 51,
     "metadata": {},
     "output_type": "execute_result"
    }
   ],
   "source": [
    "targ_list"
   ]
  },
  {
   "cell_type": "code",
   "execution_count": 113,
   "id": "1e1e3f63",
   "metadata": {},
   "outputs": [],
   "source": [
    "time_counter = Time(obs_time[0],format='jd')\n",
    "time_strings = []\n",
    "tel_az = []\n",
    "tel_zen = []\n",
    "while time_counter.jd < obs_time[-1]:\n",
    "    time_strings.append(time_counter.isot)\n",
    "    ind = np.flatnonzero(time_array <= (time_counter.jd - obs_time[0])*1440)[-1]\n",
    "    req = ind_to_id[targ_list[ind]]\n",
    "    tel_az.append(create_coordinates(req,time_counter,keck)[1] * (np.pi/180))\n",
    "    tel_zen.append(90-create_coordinates(req,time_counter,keck)[0])\n",
    "    time_counter += TimeDelta(30,format='sec')"
   ]
  },
  {
   "cell_type": "code",
   "execution_count": 114,
   "id": "30863c3d",
   "metadata": {},
   "outputs": [],
   "source": [
    "time_counter = Time(obs_time[0],format='jd')\n",
    "total_azimuth_list = []\n",
    "total_zenith_list = []\n",
    "while time_counter.jd < obs_time[-1]:\n",
    "    azimuth_list = []\n",
    "    zenith_list = []\n",
    "    for targ in targ_list:\n",
    "        azimuth_list.append(create_coordinates(ind_to_id[targ],time_counter,keck)[1] * (np.pi/180))\n",
    "        zenith_list.append(90-create_coordinates(ind_to_id[targ],time_counter,keck)[0])\n",
    "    total_azimuth_list.append(azimuth_list)\n",
    "    total_zenith_list.append(zenith_list)\n",
    "    time_counter += TimeDelta(30,format='sec')"
   ]
  },
  {
   "cell_type": "code",
   "execution_count": 128,
   "id": "6a79e5cf",
   "metadata": {},
   "outputs": [
    {
     "data": {
      "image/png": "[encoded data removed]",
      "text/plain": [
       "<Figure size 432x288 with 1 Axes>"
      ]
     },
     "metadata": {
      "needs_background": "light"
     },
     "output_type": "display_data"
    }
   ],
   "source": [
    "\n",
    "theta = np.arange(5.3/180, 146.2/180, 1./180)*np.pi\n",
    "\n",
    "i=200\n",
    "fig, ax = plt.subplots(subplot_kw={'projection': 'polar'})\n",
    "ax.set_ylim(0,70)\n",
    "ax.set_title(time_strings[i])\n",
    "ax.set_yticklabels([])\n",
    "ax.fill_between(theta,60,70,color = 'red',alpha=.7)\n",
    "ax.set_theta_zero_location('N')\n",
    "ax.scatter(total_azimuth_list[i],total_zenith_list[i],color='white',marker='*')\n",
    "ax.scatter(tel_az[i],tel_zen[i],color='orange',marker='*')\n",
    "ax.plot(tel_az[:i],tel_zen[:i],color='orange')\n",
    "ax.set_facecolor('black')"
   ]
  },
  {
   "cell_type": "code",
   "execution_count": 59,
   "id": "57d298f3",
   "metadata": {},
   "outputs": [
    {
     "data": {
      "text/plain": [
       "'T001422'"
      ]
     },
     "execution_count": 59,
     "metadata": {},
     "output_type": "execute_result"
    }
   ],
   "source": [
    "all_targets_frame.loc[ind_to_id[targ_list[0]],'Starname']"
   ]
  },
  {
   "cell_type": "code",
   "execution_count": 120,
   "id": "0f3d97aa",
   "metadata": {},
   "outputs": [],
   "source": [
    "import imageio"
   ]
  },
  {
   "cell_type": "code",
   "execution_count": 130,
   "id": "7ee2216f",
   "metadata": {},
   "outputs": [
    {
     "name": "stderr",
     "output_type": "stream",
     "text": [
      "C:\\Users\\lukeb\\AppData\\Local\\Temp\\ipykernel_20360\\388359661.py:24: DeprecationWarning: Starting with ImageIO v3 the behavior of this function will switch to that of iio.v3.imread. To keep the current behavior (and make this warning disappear) use `import imageio.v2 as imageio` or call `imageio.v2.imread` directly.\n",
      "  image = imageio.imread('tel_path_figures/{}'.format(filename))\n"
     ]
    }
   ],
   "source": [
    "filenames = []\n",
    "for i in range(len(time_strings)):\n",
    "    fig, ax = plt.subplots(subplot_kw={'projection': 'polar'})\n",
    "    ax.set_ylim(0,70)\n",
    "    ax.set_title(time_strings[i])\n",
    "    ax.set_yticklabels([])\n",
    "    ax.fill_between(theta,60,70,color = 'red',alpha=.7)\n",
    "    ax.set_theta_zero_location('N')\n",
    "    ax.scatter(total_azimuth_list[i],total_zenith_list[i],color='white',marker='*')\n",
    "    ax.scatter(tel_az[i],tel_zen[i],color='orange',marker='*')\n",
    "    ax.plot(tel_az[:i],tel_zen[:i],color='orange')\n",
    "    ax.set_facecolor('black')\n",
    "    \n",
    "    # create file name and append it to a list\n",
    "    filename = f'{i}.png'\n",
    "    filenames.append(filename)\n",
    "    \n",
    "    # save frame\n",
    "    plt.savefig('tel_path_figures/{}'.format(filename))\n",
    "    plt.close()\n",
    "# build gif\n",
    "with imageio.get_writer('telescope.gif', mode='I') as writer:\n",
    "    for filename in filenames:\n",
    "        image = imageio.imread('tel_path_figures/{}'.format(filename))\n",
    "        writer.append_data(image)\n",
    "        \n",
    "# Remove files\n",
    "for filename in set(filenames):\n",
    "    os.remove('tel_path_figures/{}'.format(filename))"
   ]
  },
  {
   "cell_type": "code",
   "execution_count": null,
   "id": "4bc82dbe",
   "metadata": {},
   "outputs": [],
   "source": []
  }
 ],
 "metadata": {
  "kernelspec": {
   "display_name": "Python 3 (ipykernel)",
   "language": "python",
   "name": "python3"
  },
  "language_info": {
   "codemirror_mode": {
    "name": "ipython",
    "version": 3
   },
   "file_extension": ".py",
   "mimetype": "text/x-python",
   "name": "python",
   "nbconvert_exporter": "python",
   "pygments_lexer": "ipython3",
   "version": "3.9.4"
  }
 },
 "nbformat": 4,
 "nbformat_minor": 5
}
