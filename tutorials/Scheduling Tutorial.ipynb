{
 "cells": [
  {
   "cell_type": "markdown",
   "id": "a781cc4f",
   "metadata": {},
   "source": [
    "# Cadenced Scheduling in Gurobi\n",
    "\n",
    "<br>\n",
    "This notebook will introduce you to a simple scheduling task in which you must determine the optimal means to monitor a list of targets. We will focus on the semester-scale 'top level' of the KPF scheduler, in which we require the monitoring of a list of targets at or near a specified $\\textit{cadence}$ (the interval between observations). Let's start by initializing a model."
   ]
  },
  {
   "cell_type": "code",
   "execution_count": 1,
   "id": "06bfda64",
   "metadata": {},
   "outputs": [
    {
     "name": "stdout",
     "output_type": "stream",
     "text": [
      "Set parameter Username\n",
      "Academic license - for non-commercial use only - expires 2024-07-23\n"
     ]
    }
   ],
   "source": [
    "import gurobipy as gp\n",
    "from gurobipy import GRB\n",
    "\n",
    "# Create a new model\n",
    "Mod = gp.Model(\"Cadenced Schedule\")"
   ]
  },
  {
   "cell_type": "markdown",
   "id": "9e20d5b4",
   "metadata": {},
   "source": [
    "Given a list of $n$ targets, we associate a unique identifying number to each, denoted as $t \\in T$ where $T = \\{0,1,...,n-1\\}$ is the total set of targets. Each target has a scaler priority $p_{t}$, and with this model we seek the optimal schedule to maximize the scientific ouput (observations * priority). Each target has a required minimum cadence $c_{t}$ after being observed that must pass before it may be targeted again. In other words, all observations of target $t$ must be at least $c_{t}$ days apart."
   ]
  },
  {
   "cell_type": "code",
   "execution_count": 2,
   "id": "68d34172",
   "metadata": {},
   "outputs": [],
   "source": [
    "#Identifiers for indexing\n",
    "n = 5\n",
    "target_ids = range(n)\n",
    "\n",
    "#Observational priorities\n",
    "p = [1,2,3,3,2]\n",
    "\n",
    "#Minimum separation (days)\n",
    "c = [2,4,7,2,3]"
   ]
  },
  {
   "cell_type": "markdown",
   "id": "c56fa070",
   "metadata": {},
   "source": [
    "We can set up a simple framework of $m$ slots to schedule observations, with each slot indexed by $s \\in S$, where $S = \\{0,1,...,m-1\\}$. Let's work with 50 consecutive days of observation, and suppose each day permits up to two observations. While simple, this can be easily generalized to larger problems. "
   ]
  },
  {
   "cell_type": "code",
   "execution_count": 3,
   "id": "00e25a85",
   "metadata": {},
   "outputs": [],
   "source": [
    "#Number of slots\n",
    "m = 50\n",
    "\n",
    "#Identifiers\n",
    "slots = range(m)"
   ]
  },
  {
   "cell_type": "markdown",
   "id": "c742acb8",
   "metadata": {},
   "source": [
    "Now we initialize some binary decision variables. For our formulation, we can use decision variables to represent whether targets are being scheduled or not on certain days. The resulting variable is a large matrix, where we can enforce constraints about how many observations are scheduled to each slot, and how many times we observe each target. Let's define the matrix $Y_{ts}$, where $Y_{ts} = 1$ if target $t$ is successfully scheduled to slot $s$, and $Y_{ts} = 0$ otherwise. The result is a large, sparse matrix that we can query later after optimizing, to find what observations correspond to which slots (the nonzero values)."
   ]
  },
  {
   "cell_type": "code",
   "execution_count": 4,
   "id": "5a248125",
   "metadata": {},
   "outputs": [],
   "source": [
    "#Initialize multidimensional variables (matrices) by specifying the dimensions (x1,x2,..)\n",
    "Y = Mod.addVars(target_ids, slots, vtype = GRB.BINARY, name = 'Y')"
   ]
  },
  {
   "cell_type": "markdown",
   "id": "045f5e89",
   "metadata": {},
   "source": [
    "### Optimizing Sampling\n",
    "Turning our cadence minimums for each target into LP constraints requires that we enforce relationships between decision variable indeces of $Y$ evaluated at different times. We need to start by creating a set of rules the schedule must follow, assuming that it chooses to schedule an observation at some given time. If the schedule contains an observation of a given target on a given day, we need to prevent observations of the same target on subsequent days until the cadence minimum $c_{t}$ has passed. For each target $t$, and each slot $s$, we define $S'_{t,s}$ to be the list of slots indexed by $\\sigma$, which are less than $c_{t}$ slots from $s$ in the future. In other words, $Y_{s,\\sigma}$ violates our cadence requirement, should $Y_{t,s}$ be scheduled.\n",
    "\n",
    "We limit the scheduling of both variables using the expression:\n",
    "<br>\n",
    "<center>$1  \\ge Y_{t,s} + Y_{t,\\sigma} \\quad \\forall \\sigma \\in S'_{t,s}$</center>\n",
    "<br>\n",
    "This is the LP equivalent to a logical $\\textit{or}$ constraint. It enforces that the sum of the assigned values to these variables must not exceed one, meaning $Y_{t,s}$ and $Y_{t,\\sigma}$ can never be equal to 1 at the same time. The real-world statement is 'both slots need not be scheduled at the same time, but if one is scheduled, the other must never be'. This constraint is applied to all the slots $\\sigma$ in $S'$. \n",
    "\n",
    "For example, lets say we're considering slot $s=2$ (the third day) and for our target of consideration $c_{t}=4$. $T'$ would then contain the slots 3, 4, and 5, since these slots are less than four days past the date of consideration. If we observe on $s=2$, then we may not observe this target again until at least $s=6$.  Let's now construct $S'_{t,s}$."
   ]
  },
  {
   "cell_type": "code",
   "execution_count": 5,
   "id": "a0c181f4",
   "metadata": {},
   "outputs": [],
   "source": [
    "from collections import defaultdict\n",
    "import numpy as np\n",
    "\n",
    "#Create a list of dictionaries for each target\n",
    "#Each dictionary will map a date of observation to the inaccessible dates in T'\n",
    "S_prime = []\n",
    "for t in target_ids:\n",
    "    targ_dict = defaultdict(list)\n",
    "    min_sep = c[t]\n",
    "    for s in slots:\n",
    "        for sigma in slots:\n",
    "            #Use 'greater than' to avoid  \n",
    "            if sigma > s and np.abs(sigma - s) < min_sep:\n",
    "                targ_dict[s].append(sigma)\n",
    "    S_prime.append(targ_dict)"
   ]
  },
  {
   "cell_type": "markdown",
   "id": "05264dd1",
   "metadata": {},
   "source": [
    "### Constraints\n",
    "Now we can enforce the constraints that define our formulation. We want to limit the number of observations that can be scheduled per day to two, and enforce our minimum cadence requirement.\n",
    "\n",
    "In our LP model, constraining the number of total observations per day is achieved by constraining the sum of our decision matrix $Y_{ts}$ along the $t$ axis. The sum of all the values in each column $s$ should be less than two, in other words only up to two targets can have observations scheduled within any given value of $s$:\n",
    "\n",
    "<br>\n",
    "<center>$2  \\ge  \\sum \\limits_{t \\in T} Y_{ts} \\quad \\forall s \\in S$</center>\n",
    "<br>\n",
    "\n",
    "For example, if targets 2 and 3 are assigned to the first night ($Y_{2,0} = Y_{3,0} = 1$) then the summation for the time index s=0 is already at maximum capacity. No other target $t \\in T \\setminus \\{ 2,3 \\}$ can have $Y_{t,0}$ equal to 1. This sets the observational capacity constraint, and ensures we don't overfill any given night with targets.\n",
    "\n",
    "\n",
    "Programmatically, the cadence constraint is applied in the way we described before."
   ]
  },
  {
   "cell_type": "code",
   "execution_count": 6,
   "id": "10c7b990",
   "metadata": {},
   "outputs": [],
   "source": [
    "#Two per slot (night)\n",
    "constr_two_targs = Mod.addConstrs((Y.sum('*',s) <= 2 for s in slots), 'constr_two_targs')\n",
    "\n",
    "#Prevent scheduling to slots in T' for each target\n",
    "for t in target_ids:\n",
    "    for s in slots:\n",
    "        #Retrieve marked slots, and constrain each\n",
    "        invalid_slots = S_prime[t][s]\n",
    "        Mod.addConstrs(((1 >= Y[t,s] + Y[t,sigma]) for sigma in invalid_slots),\n",
    "                       'constr_cadence_{}_{}'.format(t,s))"
   ]
  },
  {
   "cell_type": "markdown",
   "id": "384cfdab",
   "metadata": {},
   "source": [
    "### Objective\n",
    "Now we need to set the objective. We'll assume our goal is to maximize the number of observed targets times their respective priorities, and then calculate the schedule. Our objective will look like:\n",
    "\n",
    "<br>\n",
    "<center>$Maximize(\\sum \\limits_{t \\in T} \\sum \\limits_{s \\in S} p_{t} Y_{ts})$</center>\n",
    "<br>\n",
    "\n",
    "And the solver will find optimal values to assign to each index in $Y_{ts}$ that maximizes the value of this objective, subject to the constraints on observations per night and cadence enforcement. It's important to note that since we've chosen to maximize $\\textit{priority}$ observations and not just the $\\textit{total}$ number of observations to make the solver work a bit harder, the optimal model may not be the one that globally minimizes downtime. If you wanted to weight all the observations equally, you would maximize the nonzero values of $Y_{ts}$ (omit the inclusion of $p_{t}$ in the objective in this case)."
   ]
  },
  {
   "cell_type": "code",
   "execution_count": 7,
   "id": "5ef1e693",
   "metadata": {
    "scrolled": true
   },
   "outputs": [
    {
     "name": "stdout",
     "output_type": "stream",
     "text": [
      "Gurobi Optimizer version 10.0.2 build v10.0.2rc0 (mac64[x86])\n",
      "\n",
      "CPU model: Intel(R) Core(TM) i5-8257U CPU @ 1.40GHz\n",
      "Thread count: 4 physical cores, 8 logical processors, using up to 8 threads\n",
      "\n",
      "Optimize a model with 668 rows, 250 columns and 1486 nonzeros\n",
      "Model fingerprint: 0x02d93ed4\n",
      "Variable types: 0 continuous, 250 integer (250 binary)\n",
      "Coefficient statistics:\n",
      "  Matrix range     [1e+00, 1e+00]\n",
      "  Objective range  [1e+00, 3e+00]\n",
      "  Bounds range     [1e+00, 1e+00]\n",
      "  RHS range        [1e+00, 2e+00]\n",
      "Found heuristic solution: objective 171.0000000\n",
      "Presolve removed 381 rows and 0 columns\n",
      "Presolve time: 0.01s\n",
      "Presolved: 287 rows, 250 columns, 1086 nonzeros\n",
      "Variable types: 0 continuous, 250 integer (250 binary)\n",
      "Found heuristic solution: objective 172.0000000\n",
      "\n",
      "Root relaxation: objective 1.808571e+02, 593 iterations, 0.02 seconds (0.01 work units)\n",
      "\n",
      "    Nodes    |    Current Node    |     Objective Bounds      |     Work\n",
      " Expl Unexpl |  Obj  Depth IntInf | Incumbent    BestBd   Gap | It/Node Time\n",
      "\n",
      "     0     0  180.85714    0  108  172.00000  180.85714  5.15%     -    0s\n",
      "     0     0  180.42857    0  195  172.00000  180.42857  4.90%     -    0s\n",
      "     0     0  180.31579    0  197  172.00000  180.31579  4.83%     -    0s\n",
      "     0     0  180.16129    0  198  172.00000  180.16129  4.74%     -    0s\n",
      "     0     0  180.00000    0  182  172.00000  180.00000  4.65%     -    0s\n",
      "     0     0  180.00000    0  198  172.00000  180.00000  4.65%     -    0s\n",
      "     0     0  180.00000    0  206  172.00000  180.00000  4.65%     -    0s\n",
      "H    0     0                     175.0000000  180.00000  2.86%     -    0s\n",
      "     0     0  180.00000    0  139  175.00000  180.00000  2.86%     -    0s\n",
      "     0     0  180.00000    0  139  175.00000  180.00000  2.86%     -    0s\n",
      "     0     0  179.83333    0  103  175.00000  179.83333  2.76%     -    0s\n",
      "     0     0  179.75000    0  115  175.00000  179.75000  2.71%     -    0s\n",
      "     0     0  179.50000    0  108  175.00000  179.50000  2.57%     -    0s\n",
      "     0     0  179.50000    0  117  175.00000  179.50000  2.57%     -    0s\n",
      "     0     0  179.50000    0   85  175.00000  179.50000  2.57%     -    0s\n",
      "H    0     0                     176.0000000  179.50000  1.99%     -    0s\n",
      "     0     0  179.50000    0  129  176.00000  179.50000  1.99%     -    0s\n",
      "     0     0  179.50000    0  109  176.00000  179.50000  1.99%     -    0s\n",
      "     0     0  179.50000    0  109  176.00000  179.50000  1.99%     -    0s\n",
      "     0     2  179.50000    0   96  176.00000  179.50000  1.99%     -    0s\n",
      "\n",
      "Cutting planes:\n",
      "  Gomory: 7\n",
      "  Zero half: 17\n",
      "\n",
      "Explored 4644 nodes (73065 simplex iterations) in 1.42 seconds (1.22 work units)\n",
      "Thread count was 8 (of 8 available processors)\n",
      "\n",
      "Solution count 4: 176 175 172 171 \n",
      "\n",
      "Optimal solution found (tolerance 1.00e-04)\n",
      "Best objective 1.760000000000e+02, best bound 1.760000000000e+02, gap 0.0000%\n"
     ]
    }
   ],
   "source": [
    "#Assign objective function: maximize priority times observations\n",
    "Mod.setObjective(gp.quicksum(p[r]*Y[r,t] for r in target_ids for t in slots), GRB.MAXIMIZE)\n",
    "\n",
    "Mod.update()\n",
    "Mod.optimize()"
   ]
  },
  {
   "cell_type": "markdown",
   "id": "ea2f4689",
   "metadata": {},
   "source": [
    "### Gurobi Output\n",
    "After our time limit ends, the optimization will halt. The best possible solution found will be assigned to the model variable at that time. Let's examine the ouput in detail, line by line.\n",
    "\n",
    "```\n",
    "Gurobi Optimizer version 9.5.1 build v9.5.1rc2 (win64)\n",
    "Thread count: 6 physical cores, 12 logical processors, using up to 12 threads\n",
    "```\n",
    "These lines specify the version of Gurobi used to optimize the model, and the number of threads utilized by the solver/in your machine. If you've made any changes to the parameters that control the solver, they will appear here. Gurobipy allows you to access and alter these parameters through the API as well, see https://www.gurobi.com/documentation/10.0/refman/parameters.html\n",
    "```\n",
    "Optimize a model with 718 rows, 250 columns and 1736 nonzeros\n",
    "```\n",
    "This output details the model shape that has been built using Gurobipy. The number of columns is equal to the number of variables (here the total size of $Y$). The number of rows in your model corresponds to the number of constraints that have been added. The coefficients of variable indeces in each constraint form the total constraint matrix, often called $A$. For most constraints, only a few variables are involved, so $A$ is almost always sparse. The LP problem then takes the form $Ax \\le b$, where $x$ is a flattened vector of $Y$, and $b$ is specified row by row by our constraints.\n",
    "```\n",
    "Variable types: 0 continuous, 250 integer (250 binary)\n",
    "```\n",
    "The above section specifies the types of variables within the model (Binary, Continuous, or Integer)\n",
    "```\n",
    "Coefficient statistics:\n",
    "  Matrix range     [1e+00, 1e+00]\n",
    "  Objective range  [1e+00, 3e+00]\n",
    "  Bounds range     [1e+00, 1e+00]\n",
    "  RHS range        [1e+00, 2e+00]\n",
    "```\n",
    "This output gives numerical data on the constraint matrix (ranges of coefficients and objective bounds)\n",
    "```\n",
    "Found heuristic solution: objective 171.0000000\n",
    "Presolve removed 431 rows and 0 columns\n",
    "Presolve time: 0.00s\n",
    "Presolved: 287 rows, 250 columns, 1086 nonzeros\n",
    "Variable types: 0 continuous, 250 integer (250 binary)\n",
    "Found heuristic solution: objective 172.0000000\n",
    "```\n",
    "The next section details the presolve process executed by the optimizer. The presolve process takes the current model, and if possible, will reduce it to a smaller model before executing the full simplex algorithm. \n",
    "```\n",
    "Root relaxation: objective 1.808571e+02, 519 iterations, 0.02 seconds (0.00 work units)\n",
    "```\n",
    "Next is a brief message detailing that a maximal upper bound on the objective has been found using the simplex solver (this is done quickly for most models). This is found by first assuming that the variables can all take continuous values, then 'relaxing' to the nearest solution that satisfies your variable bounds (binary in this case). This relaxation is detailed in the next section.\n",
    "```\n",
    "        Nodes    |    Current Node    |     Objective Bounds      |     Work\n",
    "     Expl Unexpl |  Obj  Depth IntInf | Incumbent    BestBd   Gap | It/Node Time\n",
    "\n",
    "         0     0  180.85714    0  106  172.00000  180.85714  5.15%     -    0s\n",
    "    H    0     0                     174.0000000  180.42857  3.69%     -    0s\n",
    "...\n",
    "```\n",
    "The largest section is the logging for the 'branch and cut' search for the optimal solution of the objective. The solver evaluates different paths along each dimension and finds what variable assignments maximize the objective. Columns printed in this step provide detailed information about the solving progress. Important takeaways are the Incumbent and BestBd columns. The Incumbent column gives the objective of the current solution that satisfies the variable bounds. The BestBd is the highest possible objective of all solutions remaining in the 'tree' of remaining possibilities. When these objectives become equal, optimality has been achieved and solving terminates.\n",
    "```\n",
    "Solution count 5: 176 175 174 ... 171\n",
    "Optimal solution found (tolerance 1.00e-04)\n",
    "Best objective 1.760000000000e+02, best bound 1.760000000000e+02, gap 0.0000%\n",
    "```\n",
    "The remaining lines detail solution statistics. This includes the number of solutions found and their relative objectives. The final line tells us how close our objective was to the highest possible (since we reached optimality, these are equal)."
   ]
  },
  {
   "cell_type": "code",
   "execution_count": 8,
   "id": "e1ffda46",
   "metadata": {},
   "outputs": [],
   "source": [
    "#Query the solved parameters\n",
    "scheduled_targets = defaultdict(list)\n",
    "for v in Y.values():\n",
    "    \n",
    "    #Values retrieved from Model object often encounter precision errors, round to integer\n",
    "    if np.round(v.X,0) == 1:\n",
    "        indeces = v.VarName[2:][:-1].split(',')\n",
    "        \n",
    "        #Keys are dates/slots, values are targets assigned to that key\n",
    "        scheduled_targets[int(indeces[1])].append(int(indeces[0]))"
   ]
  },
  {
   "cell_type": "markdown",
   "id": "cd90d077",
   "metadata": {},
   "source": [
    "Now, we can plot our results based upon the slots assigned by the optimization. Each day will be filled with colors corresponding to the observed targets' indeces. This makes it easy to visualize how closely targets are being observed to their minimum desired cadence."
   ]
  },
  {
   "cell_type": "code",
   "execution_count": 9,
   "id": "a5e69174",
   "metadata": {},
   "outputs": [
    {
     "data": {
      "text/plain": [
       "Text(0.5, 1.0, 'Visualizing 50 Days of Scheduling')"
      ]
     },
     "execution_count": 9,
     "metadata": {},
     "output_type": "execute_result"
    },
    {
     "data": {
      "image/png": "[encoded data removed]",
      "text/plain": [
       "<Figure size 1200x400 with 1 Axes>"
      ]
     },
     "metadata": {},
     "output_type": "display_data"
    }
   ],
   "source": [
    "import matplotlib.pyplot as plt\n",
    "\n",
    "fig,axs = plt.subplots(1,figsize=(12,4))\n",
    "axs.set_xlim(-2,65)\n",
    "\n",
    "#Unique colors for each target\n",
    "target_colors = ['firebrick','darkkhaki','olivedrab','teal','blueviolet']\n",
    "\n",
    "for day in scheduled_targets.keys():\n",
    "    axs.fill_between([day,day+1],0,.5,color=target_colors[scheduled_targets[day][0]],\n",
    "                     label='c = {},p = {}'.format(c[scheduled_targets[day][0]],p[scheduled_targets[day][0]]))\n",
    "    if len(scheduled_targets[day]) == 2:\n",
    "        axs.fill_between([day,day+1],.5,1,color=target_colors[scheduled_targets[day][1]],\n",
    "                        label='c = {},p = {}'.format(c[scheduled_targets[day][1]],p[scheduled_targets[day][1]]))\n",
    "        \n",
    "handles, labels = plt.gca().get_legend_handles_labels()\n",
    "by_label = dict(zip(labels, handles))\n",
    "plt.legend(by_label.values(), by_label.keys())\n",
    "\n",
    "axs.set_yticks([])\n",
    "axs.set_xticks([0,10,20,30,40,50])\n",
    "axs.set_xlabel('Date of Observation')\n",
    "axs.set_ylabel('Targets Scheduled')\n",
    "axs.set_title('Visualizing 50 Days of Scheduling')"
   ]
  },
  {
   "cell_type": "markdown",
   "id": "e578ce90",
   "metadata": {},
   "source": [
    "Notice that optimal or near optimal cadence is achieved throughout the entire observing run! Larger breaks between observations are rarely scheduled, and only when it would greatly benefit the solution as a whole. Planning a large semester schedule is built upon these foundations."
   ]
  },
  {
   "cell_type": "markdown",
   "id": "9fabe470",
   "metadata": {},
   "source": [
    "## Other Model Archetypes\n",
    "#### Maximizing the number of observations\n",
    "Let's visualize the model that has no priority included in the objective and minimizes the downtime of our 'observatory'"
   ]
  },
  {
   "cell_type": "code",
   "execution_count": null,
   "id": "8a709b0b",
   "metadata": {},
   "outputs": [],
   "source": []
  }
 ],
 "metadata": {
  "kernelspec": {
   "display_name": "Python 3 (ipykernel)",
   "language": "python",
   "name": "python3"
  },
  "language_info": {
   "codemirror_mode": {
    "name": "ipython",
    "version": 3
   },
   "file_extension": ".py",
   "mimetype": "text/x-python",
   "name": "python",
   "nbconvert_exporter": "python",
   "pygments_lexer": "ipython3",
   "version": "3.9.4"
  }
 },
 "nbformat": 4,
 "nbformat_minor": 5
}
