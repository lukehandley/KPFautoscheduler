{
 "cells": [
  {
   "cell_type": "markdown",
   "id": "a781cc4f",
   "metadata": {},
   "source": [
    "# Cadenced Scheduling in Gurobi\n",
    "\n",
    "<br>\n",
    "This notebook will introduce you to a simple scheduling task in which you must determine the optimal means to monitor a list of targets. We will focus on the semester-scale 'top level' of the KPF scheduler, in which we require the cadenced monitoring of targets at or near a specified interval."
   ]
  },
  {
   "cell_type": "code",
   "execution_count": 1,
   "id": "06bfda64",
   "metadata": {},
   "outputs": [
    {
     "name": "stdout",
     "output_type": "stream",
     "text": [
      "Set parameter Username\n",
      "Academic license - for non-commercial use only - expires 2023-07-05\n"
     ]
    }
   ],
   "source": [
    "import gurobipy as gp\n",
    "from gurobipy import GRB\n",
    "\n",
    "# Create a new model\n",
    "Mod = gp.Model(\"Cadenced Schedule\")"
   ]
  },
  {
   "cell_type": "markdown",
   "id": "9e20d5b4",
   "metadata": {},
   "source": [
    "Given a list of $n$ targets denoted as $r \\in R$ where $R = \\{0,1,...,n-1\\}$, with priorities $p_{r}$, we seek the optimal schedule to maximize the scientific ouput (observations * priority). Each target has a required interval $c_{r}$ after being observed that must pass before it may be targeted again."
   ]
  },
  {
   "cell_type": "code",
   "execution_count": 2,
   "id": "68d34172",
   "metadata": {},
   "outputs": [],
   "source": [
    "#Set number of targets\n",
    "n = 5\n",
    "\n",
    "#Observational priorities\n",
    "p = [1,2,3,3,2]\n",
    "\n",
    "#Minimum separation (days)\n",
    "c = [2,4,7,2,3]\n",
    "\n",
    "#Identifiers for indexing\n",
    "target_ids = range(n)"
   ]
  },
  {
   "cell_type": "markdown",
   "id": "c56fa070",
   "metadata": {},
   "source": [
    "We can set up a simple framework of $m$ slots to schedule observations, denoted as $t \\in T$, where $T = \\{0,1,...,m-1\\}$. Let's work with 50 consecutive days of observation, and suppose each day permits up to two observations. While simple, this can be easily generalized to larger problems. "
   ]
  },
  {
   "cell_type": "code",
   "execution_count": 3,
   "id": "00e25a85",
   "metadata": {},
   "outputs": [],
   "source": [
    "#Number of slots\n",
    "m = 50\n",
    "\n",
    "#Identifiers\n",
    "slots = range(m)"
   ]
  },
  {
   "cell_type": "markdown",
   "id": "c742acb8",
   "metadata": {},
   "source": [
    "Now we initialize some binary decision variables. Let's define $Y_{rt} = 1$ if target $r$ is successfully scheduled to slot $t$, and $Y_{rt} = 0$ otherwise. "
   ]
  },
  {
   "cell_type": "code",
   "execution_count": 5,
   "id": "5a248125",
   "metadata": {},
   "outputs": [],
   "source": [
    "#Initialize multidimensional variables (matrices) by specifying the dimensions (x1,x2,..)\n",
    "Y = Mod.addVars(target_ids, slots, vtype = GRB.BINARY, name = 'Y')"
   ]
  },
  {
   "cell_type": "markdown",
   "id": "045f5e89",
   "metadata": {},
   "source": [
    "### Enforcing Cadenced Sampling\n",
    "Turning our cadence minimums for each target into LP constraints requires that we enforce relationships between decision variables $Y$ evaluated at different times. For each target $r$, and each slot $t$, we define $T'_{r,t}$ to be the list of slots $\\tau$, which are less than $c_{r}$ slots from $t$. In other words, $Y_{r,\\tau}$ violates our cadence requirement, should $Y_{r,t}$ be scheduled.\n",
    "\n",
    "We limit the scheduling of both variables using the expression:\n",
    "<br>\n",
    "<center>$1 - Y_{r,t} \\ge Y_{r,\\tau} \\quad \\forall \\tau \\in T'_{r,t}$</center>\n",
    "<br>\n",
    "This is the LP equivalent to a logical $\\textit{or}$ constraint. Should $Y_{r,t}$ be scheduled (set to 1) the sum of the left hand side vanishes, forcing $Y_{r,\\tau}$ to 0. If $Y_{r,t}$ is not scheduled, it forces no bounds on $Y_{r,\\tau}$, which can take either value 0 or 1. Let's now construct $T'_{r,t}$."
   ]
  },
  {
   "cell_type": "code",
   "execution_count": 6,
   "id": "a0c181f4",
   "metadata": {},
   "outputs": [],
   "source": [
    "from collections import defaultdict\n",
    "import numpy as np\n",
    "\n",
    "#Create a list of dictionaries for each target\n",
    "#Each dictionary will map a date of observation to the inaccessible dates in T'\n",
    "t_prime = []\n",
    "for r in target_ids:\n",
    "    targ_dict = defaultdict(list)\n",
    "    min_sep = c[r]\n",
    "    for t in slots:\n",
    "        for tau in slots:\n",
    "            if tau > t and np.abs(tau - t) < min_sep:\n",
    "                targ_dict[t].append(tau)\n",
    "    t_prime.append(targ_dict)"
   ]
  },
  {
   "cell_type": "markdown",
   "id": "05264dd1",
   "metadata": {},
   "source": [
    "### Constraints\n",
    "Now we can enforce the constraints that define our formulation. We want to limit the number of observations that can be scheduled per day to two, and enforce our minimum cadence requirement."
   ]
  },
  {
   "cell_type": "code",
   "execution_count": 7,
   "id": "10c7b990",
   "metadata": {},
   "outputs": [],
   "source": [
    "#Two per slot (night)\n",
    "constr_two_targs = Mod.addConstrs((Y.sum('*',t) <= 2 for t in slots), 'constr_two_targs')\n",
    "\n",
    "#Prevent scheduling to slots in T' for each target\n",
    "for r in target_ids:\n",
    "    for t in slots:\n",
    "        #Retrieve marked slots, and constrain each\n",
    "        invalid_slots = t_prime[r][t]\n",
    "        Mod.addConstrs((1 - Y[r,t] >= Y[r,tau] for tau in invalid_slots),\n",
    "                       'constr_cadence_{}_{}'.format(r,t))"
   ]
  },
  {
   "cell_type": "markdown",
   "id": "384cfdab",
   "metadata": {},
   "source": [
    "### Objective\n",
    "Now we need to set the objective. We'll assume our goal is to maximize the number of observed targets times their respective priorities, and calculate the schedule."
   ]
  },
  {
   "cell_type": "code",
   "execution_count": 8,
   "id": "5ef1e693",
   "metadata": {
    "scrolled": true
   },
   "outputs": [
    {
     "name": "stdout",
     "output_type": "stream",
     "text": [
      "Gurobi Optimizer version 9.5.1 build v9.5.1rc2 (win64)\n",
      "Thread count: 6 physical cores, 12 logical processors, using up to 12 threads\n",
      "Optimize a model with 668 rows, 250 columns and 1486 nonzeros\n",
      "Model fingerprint: 0x30a791a9\n",
      "Variable types: 0 continuous, 250 integer (250 binary)\n",
      "Coefficient statistics:\n",
      "  Matrix range     [1e+00, 1e+00]\n",
      "  Objective range  [1e+00, 3e+00]\n",
      "  Bounds range     [1e+00, 1e+00]\n",
      "  RHS range        [1e+00, 2e+00]\n",
      "Found heuristic solution: objective 171.0000000\n",
      "Presolve removed 381 rows and 0 columns\n",
      "Presolve time: 0.01s\n",
      "Presolved: 287 rows, 250 columns, 1086 nonzeros\n",
      "Variable types: 0 continuous, 250 integer (250 binary)\n",
      "Found heuristic solution: objective 172.0000000\n",
      "\n",
      "Root relaxation: objective 1.808571e+02, 558 iterations, 0.02 seconds (0.00 work units)\n",
      "\n",
      "    Nodes    |    Current Node    |     Objective Bounds      |     Work\n",
      " Expl Unexpl |  Obj  Depth IntInf | Incumbent    BestBd   Gap | It/Node Time\n",
      "\n",
      "     0     0  180.85714    0  106  172.00000  180.85714  5.15%     -    0s\n",
      "H    0     0                     174.0000000  180.85714  3.94%     -    0s\n",
      "     0     0  180.42857    0  196  174.00000  180.42857  3.69%     -    0s\n",
      "     0     0  180.31579    0  186  174.00000  180.31579  3.63%     -    0s\n",
      "H    0     0                     175.0000000  180.30782  3.03%     -    0s\n",
      "     0     0  180.30782    0  209  175.00000  180.30782  3.03%     -    0s\n",
      "     0     0  180.00000    0  152  175.00000  180.00000  2.86%     -    0s\n",
      "     0     0  180.00000    0  157  175.00000  180.00000  2.86%     -    0s\n",
      "     0     0  180.00000    0  132  175.00000  180.00000  2.86%     -    0s\n",
      "     0     0  180.00000    0  136  175.00000  180.00000  2.86%     -    0s\n",
      "     0     0  180.00000    0  141  175.00000  180.00000  2.86%     -    0s\n",
      "     0     0  180.00000    0  145  175.00000  180.00000  2.86%     -    0s\n",
      "     0     0  179.83333    0   60  175.00000  179.83333  2.76%     -    0s\n",
      "     0     0  179.83333    0  130  175.00000  179.83333  2.76%     -    0s\n",
      "     0     0  179.66667    0   94  175.00000  179.66667  2.67%     -    0s\n",
      "     0     0  179.66667    0   94  175.00000  179.66667  2.67%     -    0s\n",
      "H    0     0                     176.0000000  179.66667  2.08%     -    0s\n",
      "     0     2  179.66667    0   94  176.00000  179.66667  2.08%     -    0s\n",
      "\n",
      "Cutting planes:\n",
      "  Gomory: 3\n",
      "  Zero half: 18\n",
      "\n",
      "Explored 5485 nodes (78946 simplex iterations) in 3.99 seconds (1.51 work units)\n",
      "Thread count was 12 (of 12 available processors)\n",
      "\n",
      "Solution count 5: 176 175 174 ... 171\n",
      "\n",
      "Optimal solution found (tolerance 1.00e-04)\n",
      "Best objective 1.760000000000e+02, best bound 1.760000000000e+02, gap 0.0000%\n"
     ]
    }
   ],
   "source": [
    "#Assign objective function: maximize priority times observations\n",
    "Mod.setObjective(gp.quicksum(p[r]*Y[r,t] for r in target_ids for t in slots), GRB.MAXIMIZE)\n",
    "\n",
    "Mod.update()\n",
    "Mod.optimize()"
   ]
  },
  {
   "cell_type": "markdown",
   "id": "ea2f4689",
   "metadata": {},
   "source": [
    "### Gurobi Output\n",
    "After our time limit ends, the optimization will halt. The best possible solution found will be assigned to the model variable at that time. Let's examine the ouput in detail, line by line.\n",
    "\n",
    "- The first two lines specify the version of Gurobi used to optimize the model, and the number of threads utilized by the solver/in your machine. If you've made any changes to the parameters that control the solver, they will appear here. Gurobipy allows you to access and alter these parameters through the API as well, see https://www.gurobi.com/documentation/10.0/refman/parameters.html\n",
    "- Line three details the model shape that has been built using Gurobipy. The number of columns is equal to the number of variables (here the total size of $Y$). The number of rows in your model corresponds to the number of constraints that have been added. The coefficients of variable indeces in each constraint form the total constraint matrix, often called $A$. For most constraints, only a few variables are involved, so $A$ is almost always sparse. The LP problem then takes the form $Ax \\le b$, where $x$ is a flattened vector of $Y$, and $b$ is specified row by row by our constraints.\n",
    "- The next line specifies the types of variables within the model (Binary, Continuous, or Integer)\n",
    "- Line five gives numerical data on the constraint matrix (ranges of coefficients and objective bounds)\n",
    "- The next section details the presolve process executed by the optimizer. The presolve process takes the current model, and if possible, will reduce it to a smaller model before executing the full simplex algorithm. \n",
    "- Next is a brief message detailing that a maximal upper bound on the objective has been found using the simplex solver (this is done quickly for most models). This is found by first assuming that the variables can all take continuous values, then 'relaxing' to the nearest solution that satisfies your variable bounds (binary in this case). This relaxation is detailed in the next section.\n",
    "- The largest section is the logging for the 'branch and cut' search for the optimal solution of the objective. The solver evaluates different paths along each dimension and finds what variable assignments maximize the objective. Columns printed in this step provide detailed information about the solving progress. Important takeaways are the Incumbent and BestBd columns. The Incumbent column gives the objective of the current solution that satisfies the variable bounds. The BestBd is the highest possible objective of all solutions remaining in the 'tree' of remaining possibilities. When these objectives become equal, optimality has been achieved and solving terminates.\n",
    "- The remaining lines detail solution statistics. This includes the number of solutions found and their relative objectives. The final line tells us how close our objective was to the highest possible (since we reached optimality, these are equal)."
   ]
  },
  {
   "cell_type": "code",
   "execution_count": 9,
   "id": "e1ffda46",
   "metadata": {},
   "outputs": [],
   "source": [
    "#Query the solved parameters\n",
    "scheduled_targets = defaultdict(list)\n",
    "for v in Y.values():\n",
    "    \n",
    "    #Values retrieved from Model object often encounter precision, round to integer\n",
    "    if np.round(v.X,0) == 1:\n",
    "        indeces = v.VarName[2:][:-1].split(',')\n",
    "        \n",
    "        #Keys are dates/slots, values are targets assigned to that key\n",
    "        scheduled_targets[int(indeces[1])].append(int(indeces[0]))"
   ]
  },
  {
   "cell_type": "markdown",
   "id": "cd90d077",
   "metadata": {},
   "source": [
    "Now, we can plot our results based upon the slots assigned by the optimization. Each day will be filled with colors corresponding to the observed targets' indeces. This makes it easy to visualize how closely targets are being observed to their minimum desired cadence."
   ]
  },
  {
   "cell_type": "code",
   "execution_count": 10,
   "id": "a5e69174",
   "metadata": {},
   "outputs": [
    {
     "data": {
      "text/plain": [
       "Text(0.5, 1.0, 'Visualizing 50 Days of Scheduling')"
      ]
     },
     "execution_count": 10,
     "metadata": {},
     "output_type": "execute_result"
    },
    {
     "data": {
      "image/png": "[encoded data removed]",
      "text/plain": [
       "<Figure size 864x288 with 1 Axes>"
      ]
     },
     "metadata": {
      "needs_background": "light"
     },
     "output_type": "display_data"
    }
   ],
   "source": [
    "import matplotlib.pyplot as plt\n",
    "\n",
    "fig,axs = plt.subplots(1,figsize=(12,4))\n",
    "axs.set_xlim(-2,65)\n",
    "\n",
    "#Unique colors for each target\n",
    "target_colors = ['lightcoral','firebrick','maroon','red','tomato']\n",
    "\n",
    "for day in scheduled_targets.keys():\n",
    "    axs.fill_between([day,day+1],0,.5,color=target_colors[scheduled_targets[day][0]],\n",
    "                     label='c = {},p = {}'.format(c[scheduled_targets[day][0]],p[scheduled_targets[day][0]]))\n",
    "    if len(scheduled_targets[day]) == 2:\n",
    "        axs.fill_between([day,day+1],.5,1,color=target_colors[scheduled_targets[day][1]],\n",
    "                        label='c = {},p = {}'.format(c[scheduled_targets[day][1]],p[scheduled_targets[day][1]]))\n",
    "        \n",
    "handles, labels = plt.gca().get_legend_handles_labels()\n",
    "by_label = dict(zip(labels, handles))\n",
    "plt.legend(by_label.values(), by_label.keys())\n",
    "\n",
    "axs.set_yticks([])\n",
    "axs.set_xticks([0,10,20,30,40,50])\n",
    "axs.set_xlabel('Date of Observation')\n",
    "axs.set_ylabel('Targets Scheduled')\n",
    "axs.set_title('Visualizing 50 Days of Scheduling')"
   ]
  },
  {
   "cell_type": "code",
   "execution_count": null,
   "id": "5355b98c",
   "metadata": {},
   "outputs": [],
   "source": []
  }
 ],
 "metadata": {
  "kernelspec": {
   "display_name": "Python 3 (ipykernel)",
   "language": "python",
   "name": "python3"
  },
  "language_info": {
   "codemirror_mode": {
    "name": "ipython",
    "version": 3
   },
   "file_extension": ".py",
   "mimetype": "text/x-python",
   "name": "python",
   "nbconvert_exporter": "python",
   "pygments_lexer": "ipython3",
   "version": "3.9.4"
  }
 },
 "nbformat": 4,
 "nbformat_minor": 5
}
