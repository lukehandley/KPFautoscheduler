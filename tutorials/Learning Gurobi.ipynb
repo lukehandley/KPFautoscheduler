{
 "cells": [
  {
   "cell_type": "markdown",
   "id": "b5b69e6a",
   "metadata": {},
   "source": [
    "# Using Gurobi and Integer Linear Programming\n",
    "\n",
    "<br>\n",
    "In this notebook, you will learn the basics of linear programming in its simplest form while also getting a taste of interacting with the Gurobi Python API. This example is somewhat adapted from Gurobi, and there's some extra documentation to make learning the formalism less of a headache. This notebook assumes that Gurobi is properly installed with a valid license.\n",
    "\n",
    "[Gurobi's Examples](https://www.gurobi.com/documentation/9.5/examples/example_tour.html)\n",
    "\n",
    "[Read Here!](https://en.wikipedia.org/wiki/Integer_programming)\n"
   ]
  },
  {
   "cell_type": "markdown",
   "id": "3efb912a",
   "metadata": {},
   "source": [
    "### Creating a Model\n",
    "<br>\n",
    "The Model object in Gurobi contains all the information regarding a linear programming problem. All variables and constraints are initialized inside this 'unsolved' state. Once we eventually solve said problem, the solved state of the model can be queried for attributes."
   ]
  },
  {
   "cell_type": "code",
   "execution_count": 1,
   "id": "592cda97",
   "metadata": {},
   "outputs": [
    {
     "name": "stdout",
     "output_type": "stream",
     "text": [
      "Set parameter Username\n",
      "Academic license - for non-commercial use only - expires 2023-07-05\n"
     ]
    }
   ],
   "source": [
    "import gurobipy as gp\n",
    "from gurobipy import GRB\n",
    "\n",
    "# Create a new model\n",
    "m = gp.Model(\"2D Optimization\")"
   ]
  },
  {
   "cell_type": "markdown",
   "id": "bb90cf24",
   "metadata": {},
   "source": [
    "Linear programming problems maximize a linear objective function of a set of variables subject to a set of linear constraints. By utilizing simple functions, we can use solvers like Gurobi to organize problems with even millions of variables! As you will see in the scheduling tutorial, these variables can have unique and often clever 'physical' interpretations. \n",
    "\n",
    "In this example, we'll solve a system with just two variables (perhaps cartesian coordinates). This allows us to visualize the problem geometrically and get some intuition about linear programming. Say we wish to maximize the objective function (a *vector* in our 2 dimensional space):\n",
    "<br>\n",
    "<center>$4x + 3y$</center>\n",
    "subject to the system of matrix inequalities:\n",
    "<br>\n",
    "<center>$2.5x + y \\leq 10$</center>\n",
    "<center>$0.5x + y \\leq 3.8$</center>\n",
    "<br>\n",
    "\n",
    "\n",
    "\n",
    "### Variables\n",
    "\n",
    "We initialize these in Gurobi using the addVar function. We need to specify the bounds of the parameters we will solve over using the built in variable types. In this example, we'll choose to only accept integer values, since they are the easiest to visualize. We specify the type of variable and assign it a name. Naming variables explicitly is important for querying later on."
   ]
  },
  {
   "cell_type": "code",
   "execution_count": 2,
   "id": "3ab7e693",
   "metadata": {},
   "outputs": [],
   "source": [
    "# Create variables\n",
    "x = m.addVar(vtype=GRB.INTEGER, name=\"x\")\n",
    "y = m.addVar(vtype=GRB.INTEGER, name=\"y\")"
   ]
  },
  {
   "cell_type": "markdown",
   "id": "3fed43da",
   "metadata": {},
   "source": [
    "### Constraints\n",
    "\n",
    "Initializing constraints is similarly easy in Gurobi using the addConstr function. We specify the linear expression of our variables and again give it a convenient name. In our toy 2D model, it's fairly easy to visualize everything geometrically. Our constraints take the forms of lines that bound all of our feasible solutions."
   ]
  },
  {
   "cell_type": "code",
   "execution_count": 3,
   "id": "9a80edde",
   "metadata": {},
   "outputs": [
    {
     "data": {
      "text/plain": [
       "<gurobi.Constr *Awaiting Model Update*>"
      ]
     },
     "execution_count": 3,
     "metadata": {},
     "output_type": "execute_result"
    }
   ],
   "source": [
    "# Add constraint: 2.5 x + y <= 10\n",
    "m.addConstr(2.5*x + y <= 10, \"c0\")\n",
    "\n",
    "# Add constraint: x + y >= 1\n",
    "m.addConstr(0.5*x + y <= 3.8, \"c1\")"
   ]
  },
  {
   "cell_type": "markdown",
   "id": "03b2d83f",
   "metadata": {},
   "source": [
    "We can visualize using a 2D plot:"
   ]
  },
  {
   "cell_type": "code",
   "execution_count": 4,
   "id": "61d76aed",
   "metadata": {},
   "outputs": [
    {
     "data": {
      "text/plain": [
       "Text(0, 0.5, 'y')"
      ]
     },
     "execution_count": 4,
     "metadata": {},
     "output_type": "execute_result"
    },
    {
     "data": {
      "image/png": "[encoded data removed]",
      "text/plain": [
       "<Figure size 360x360 with 1 Axes>"
      ]
     },
     "metadata": {
      "needs_background": "light"
     },
     "output_type": "display_data"
    }
   ],
   "source": [
    "import matplotlib.pyplot as plt\n",
    "import numpy as np\n",
    "from itertools import product\n",
    "\n",
    "fig, axs = plt.subplots(figsize=(5,5))\n",
    "\n",
    "X = np.arange(-1,7,.1)\n",
    "\n",
    "#Plot constraints as lines\n",
    "c0Y = 10-2.5*X\n",
    "c1Y = 3.8-.5*X\n",
    "\n",
    "axs.plot(X,c0Y,color='grey')\n",
    "axs.text(2.5,4,'c0',color='grey',fontsize=12)\n",
    "\n",
    "axs.plot(X,c1Y,color='grey')\n",
    "axs.text(4.5,1.65,'c1',color='grey',fontsize=12)\n",
    "\n",
    "#Fill in region that satisfies constraints\n",
    "top = [min(*l) for l in zip(c0Y, c1Y)]\n",
    "axs.fill_between(X,0,top,alpha=.2,color='g')\n",
    "axs.set_ylim(-0,5)\n",
    "axs.set_xlim(0,5)\n",
    "\n",
    "points = [0,1,2,3,4,5]\n",
    "\n",
    "#Plot integer solutions\n",
    "for point in product(points,repeat=2):\n",
    "    axs.scatter(point[0],point[1],color='blue')\n",
    "\n",
    "axs.set_xlabel('x')\n",
    "axs.set_ylabel('y')"
   ]
  },
  {
   "cell_type": "markdown",
   "id": "a1f1e058",
   "metadata": {},
   "source": [
    "### Objective\n",
    "\n",
    "The setObjective function accepts another linear expression to optimize and an accompanying condition (i.e. maximize or minimize). We want to find the point on the surfaces of our planes that sits at the maximum of our objective function. Then, we need to find the nearest integer solutions for our variables."
   ]
  },
  {
   "cell_type": "code",
   "execution_count": 5,
   "id": "6ef621d1",
   "metadata": {},
   "outputs": [],
   "source": [
    "# Set objective\n",
    "m.setObjective(4*x + 3*y, GRB.MAXIMIZE)"
   ]
  },
  {
   "cell_type": "markdown",
   "id": "ef9287f0",
   "metadata": {},
   "source": [
    "We seek the combination of parameters that has maximal projection along the objective vector. By inspection, this looks like the point (3,2) below. We can also see, for example, that the point (4,3) better maximizes our objective but resides outside our feasible region."
   ]
  },
  {
   "cell_type": "code",
   "execution_count": 6,
   "id": "e29d665c",
   "metadata": {
    "scrolled": true
   },
   "outputs": [
    {
     "data": {
      "image/png": "[encoded data removed]",
      "text/plain": [
       "<Figure size 360x360 with 1 Axes>"
      ]
     },
     "execution_count": 6,
     "metadata": {},
     "output_type": "execute_result"
    }
   ],
   "source": [
    "#Add pointer representing increasing objective\n",
    "axs.arrow(0,0,4,3,color='black',head_width = .1)\n",
    "axs.text(4,19/6,'Obj',fontsize=12)\n",
    "\n",
    "#Circle our suspected solution\n",
    "axs.add_patch(plt.Circle((3,2),.2,color='red',fill=False))\n",
    "fig"
   ]
  },
  {
   "cell_type": "markdown",
   "id": "83b92de1",
   "metadata": {},
   "source": [
    "Finally we call the optimize function. You can call this assuming you have enough constraints to bound your solution space and the objective is specified. The most common algorithm for solving ILP problems is the simplex algorithm. For larger problems, Gurobi will also attempt other methods and use what seems to be fastest.\n",
    "\n",
    "[Simplex Algorithm](https://en.wikipedia.org/wiki/Simplex_algorithm)"
   ]
  },
  {
   "cell_type": "code",
   "execution_count": 7,
   "id": "4693cfcf",
   "metadata": {},
   "outputs": [
    {
     "name": "stdout",
     "output_type": "stream",
     "text": [
      "Gurobi Optimizer version 9.5.1 build v9.5.1rc2 (win64)\n",
      "Thread count: 6 physical cores, 12 logical processors, using up to 12 threads\n",
      "Optimize a model with 2 rows, 2 columns and 4 nonzeros\n",
      "Model fingerprint: 0x3d193bdd\n",
      "Variable types: 0 continuous, 2 integer (0 binary)\n",
      "Coefficient statistics:\n",
      "  Matrix range     [5e-01, 3e+00]\n",
      "  Objective range  [3e+00, 4e+00]\n",
      "  Bounds range     [0e+00, 0e+00]\n",
      "  RHS range        [4e+00, 1e+01]\n",
      "Found heuristic solution: objective 16.0000000\n",
      "Presolve time: 0.00s\n",
      "Presolved: 2 rows, 2 columns, 4 nonzeros\n",
      "Variable types: 0 continuous, 2 integer (0 binary)\n",
      "\n",
      "Root relaxation: objective 1.800000e+01, 0 iterations, 0.00 seconds (0.00 work units)\n",
      "\n",
      "    Nodes    |    Current Node    |     Objective Bounds      |     Work\n",
      " Expl Unexpl |  Obj  Depth IntInf | Incumbent    BestBd   Gap | It/Node Time\n",
      "\n",
      "*    0     0               0      18.0000000   18.00000  0.00%     -    0s\n",
      "\n",
      "Explored 1 nodes (0 simplex iterations) in 0.03 seconds (0.00 work units)\n",
      "Thread count was 12 (of 12 available processors)\n",
      "\n",
      "Solution count 2: 18 16 \n",
      "\n",
      "Optimal solution found (tolerance 1.00e-04)\n",
      "Best objective 1.800000000000e+01, best bound 1.800000000000e+01, gap 0.0000%\n"
     ]
    }
   ],
   "source": [
    "# Optimize model\n",
    "m.optimize()"
   ]
  },
  {
   "cell_type": "markdown",
   "id": "cf72e58d",
   "metadata": {},
   "source": [
    "### Solution\n",
    "\n",
    "Gurobi's console output above contains statistics about the solving method and problem size. You will explore this in more depth in the scheduling tutorial. For now, let's just get our solution. We can query a completed model for variable values, optimization status and more."
   ]
  },
  {
   "cell_type": "code",
   "execution_count": 8,
   "id": "bfb63dd9",
   "metadata": {},
   "outputs": [
    {
     "name": "stdout",
     "output_type": "stream",
     "text": [
      "x 3\n",
      "y 2\n",
      "Obj: 18\n"
     ]
    }
   ],
   "source": [
    "# .VarName returns the assigned name, .X returns the calculated value from optimization\n",
    "for v in m.getVars():\n",
    "    print('%s %g' % (v.VarName, v.X))\n",
    "\n",
    "print('Obj: %g' % m.ObjVal)"
   ]
  },
  {
   "cell_type": "markdown",
   "id": "276c1eed",
   "metadata": {},
   "source": [
    "As we expected, our best value of the objective subject to our matrix constraints and variable bounds occurs at (3,2). For scheduling, we rarely even care about the actual value of our abstract *objective*, only the parameters that achieve it!"
   ]
  },
  {
   "cell_type": "code",
   "execution_count": null,
   "id": "4f300e6d",
   "metadata": {},
   "outputs": [],
   "source": []
  }
 ],
 "metadata": {
  "kernelspec": {
   "display_name": "Python 3 (ipykernel)",
   "language": "python",
   "name": "python3"
  },
  "language_info": {
   "codemirror_mode": {
    "name": "ipython",
    "version": 3
   },
   "file_extension": ".py",
   "mimetype": "text/x-python",
   "name": "python",
   "nbconvert_exporter": "python",
   "pygments_lexer": "ipython3",
   "version": "3.9.4"
  },
  "vscode": {
   "interpreter": {
    "hash": "5cb56814e27ad9df1f301f38f99c57a701d33e194d0ce2702a57e9b01a44706a"
   }
  }
 },
 "nbformat": 4,
 "nbformat_minor": 5
}
