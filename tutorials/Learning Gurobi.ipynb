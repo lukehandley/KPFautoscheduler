{
 "cells": [
  {
   "cell_type": "markdown",
   "id": "b5b69e6a",
   "metadata": {},
   "source": [
    "# Using Gurobi and Integer Linear Programming\n",
    "\n",
    "<br>\n",
    "In this notebook, you will learn the basics of linear programming in its simplest form while also getting a taste of interacting with the Gurobi Python API. This example is somewhat adapted from Gurobi, and there's some extra documentation to make learning the formalism less of a headache. This notebook assumes that Gurobi is properly installed with a valid license.\n",
    "\n",
    "[Gurobi's Examples](https://www.gurobi.com/documentation/9.5/examples/example_tour.html)\n",
    "\n",
    "[Read Here!](https://en.wikipedia.org/wiki/Integer_programming)\n"
   ]
  },
  {
   "cell_type": "markdown",
   "id": "3efb912a",
   "metadata": {},
   "source": [
    "### Creating a Model\n",
    "<br>\n",
    "The Model object in Gurobi contains all the information regarding a linear programming problem. All variables and constraints are initialized inside this 'unsolved' state. Once we eventually solve said problem, the solved state of the model can be queried for attributes."
   ]
  },
  {
   "cell_type": "code",
   "execution_count": 1,
   "id": "592cda97",
   "metadata": {},
   "outputs": [
    {
     "name": "stdout",
     "output_type": "stream",
     "text": [
      "Set parameter Username\n",
      "Academic license - for non-commercial use only - expires 2023-07-05\n"
     ]
    }
   ],
   "source": [
    "import gurobipy as gp\n",
    "from gurobipy import GRB\n",
    "\n",
    "# Create a new model\n",
    "m = gp.Model(\"2D Optimization\")"
   ]
  },
  {
   "cell_type": "markdown",
   "id": "bb90cf24",
   "metadata": {},
   "source": [
    "Linear programming problems maximize a linear objective function of a set of variables subject to a set of linear constraints. By utilizing simple functions, we can use solvers like Gurobi to organize problems with even millions of variables! As you will see in the scheduling tutorial, these variables can have unique and often clever 'physical' interpretations. \n",
    "\n",
    "In this example, we'll solve a system with just two variables (perhaps cartesian coordinates). This allows us to visualize the problem geometrically and get some intuition about linear programming. Say we wish to maximize the objective function (a *vector* in our 2 dimensional space):\n",
    "<br>\n",
    "<center>$x + 2y$</center>\n",
    "subject to the system of matrix inequalities:\n",
    "<br>\n",
    "<center>$x + 2y \\leq 4$</center>\n",
    "<center>$x + y \\geq 1$</center>\n",
    "<br>\n",
    "\n",
    "\n",
    "\n",
    "### Variables\n",
    "\n",
    "We initialize these in Gurobi using the addVar function. We need to specify the bounds of the parameters we will solve over using the built in variable types. In this example, we'll choose to only accept binary values. Variables can also take other forms, but these are generally the most useful. We specify the type of variable and assign it a name. Naming variables explicitly is important for querying later on."
   ]
  },
  {
   "cell_type": "code",
   "execution_count": 2,
   "id": "3ab7e693",
   "metadata": {},
   "outputs": [],
   "source": [
    "# Create variables\n",
    "x = m.addVar(vtype=GRB.BINARY, name=\"x\")\n",
    "y = m.addVar(vtype=GRB.BINARY, name=\"y\")"
   ]
  },
  {
   "cell_type": "markdown",
   "id": "3fed43da",
   "metadata": {},
   "source": [
    "### Constraints\n",
    "\n",
    "Initializing constraints is similarly easy in Gurobi using the addConstr function. We specify the linear expression of our variables and again give it a convenient name. In our toy 2D model, it's fairly easy to visualize everything geometrically. Our constraints take the forms of lines that bound all of our feasible solutions."
   ]
  },
  {
   "cell_type": "code",
   "execution_count": 3,
   "id": "9a80edde",
   "metadata": {},
   "outputs": [
    {
     "data": {
      "text/plain": [
       "<gurobi.Constr *Awaiting Model Update*>"
      ]
     },
     "execution_count": 3,
     "metadata": {},
     "output_type": "execute_result"
    }
   ],
   "source": [
    "# Add constraint: x + 2 y <= 4\n",
    "m.addConstr(x + 2 * y <= 4, \"c0\")\n",
    "\n",
    "# Add constraint: x + y >= 1\n",
    "m.addConstr(x + y >= 1, \"c1\")"
   ]
  },
  {
   "cell_type": "markdown",
   "id": "03b2d83f",
   "metadata": {},
   "source": [
    "We can visualize using a 2D plot:"
   ]
  },
  {
   "cell_type": "code",
   "execution_count": 4,
   "id": "c287b48d",
   "metadata": {},
   "outputs": [
    {
     "data": {
      "text/plain": [
       "<matplotlib.legend.Legend at 0x1c87145c850>"
      ]
     },
     "execution_count": 4,
     "metadata": {},
     "output_type": "execute_result"
    },
    {
     "data": {
      "image/png": "[encoded data removed]",
      "text/plain": [
       "<Figure size 432x288 with 1 Axes>"
      ]
     },
     "metadata": {
      "needs_background": "light"
     },
     "output_type": "display_data"
    }
   ],
   "source": [
    "import matplotlib.pyplot as plt\n",
    "import numpy as np\n",
    "\n",
    "fig, axs = plt.subplots()\n",
    "\n",
    "\n",
    "#Our x and y can take only binary values\n",
    "axs.scatter([0,0,1,1],[0,1,0,1],color = 'r')\n",
    "X = np.arange(-2,4)\n",
    "\n",
    "#Plot Constraints\n",
    "c0Y = (4-X)/2\n",
    "c1Y = 1-X\n",
    "\n",
    "axs.plot(X,c0Y,label='c0',color='b')\n",
    "axs.plot(X,c1Y,label='c1',color='black')\n",
    "axs.fill_between(X,c1Y,c0Y,alpha=.1,color='g')\n",
    "\n",
    "axs.set_xlabel('X')\n",
    "axs.set_ylabel('Y')\n",
    "plt.legend()"
   ]
  },
  {
   "cell_type": "markdown",
   "id": "a1f1e058",
   "metadata": {},
   "source": [
    "### Objective\n",
    "\n",
    "The setObjective function accepts another linear expression to optimize and an accompanying condition (i.e. maximize or minimize). We want to find the point on the surfaces of our planes that sits at the maximum of our objective function. Then, we need to find the nearest integer solutions for our variables (or in this case solution with only *binary* parameters)."
   ]
  },
  {
   "cell_type": "code",
   "execution_count": 5,
   "id": "6ef621d1",
   "metadata": {},
   "outputs": [],
   "source": [
    "# Set objective\n",
    "m.setObjective(x + 2 * y, GRB.MAXIMIZE)"
   ]
  },
  {
   "cell_type": "markdown",
   "id": "ef9287f0",
   "metadata": {},
   "source": [
    "We seek the combination of parameters that has maximal projection along the objective vector. By inspection, this looks like the point $(1,1)$ below. We can also see that the point $(0,0)$ would not be considered a valid solution."
   ]
  },
  {
   "cell_type": "code",
   "execution_count": 6,
   "id": "e29d665c",
   "metadata": {
    "scrolled": true
   },
   "outputs": [
    {
     "data": {
      "text/plain": [
       "Text(1, 2.3, 'Obj')"
      ]
     },
     "execution_count": 6,
     "metadata": {},
     "output_type": "execute_result"
    },
    {
     "data": {
      "image/png": "[encoded data removed]",
      "text/plain": [
       "<Figure size 432x288 with 1 Axes>"
      ]
     },
     "metadata": {
      "needs_background": "light"
     },
     "output_type": "display_data"
    }
   ],
   "source": [
    "fig, axs = plt.subplots()\n",
    "\n",
    "axs.scatter([0,0,1,1],[0,1,0,1],color = 'r')\n",
    "axs.fill_between(X,c1Y,c0Y,alpha=.1,color='g')\n",
    "\n",
    "axs.arrow(0,0,1,2,color='black',head_width = .1)\n",
    "axs.text(1,2.3,'Obj')"
   ]
  },
  {
   "cell_type": "markdown",
   "id": "83b92de1",
   "metadata": {},
   "source": [
    "Finally we call the optimize function. You can call this assuming you have enough constraints to bound your solution space and the objective is specified. The most common algorithm for solving ILP problems is the simplex algorithm. For larger problems, Gurobi will also attempt other methods and use what seems to be fastest.\n",
    "\n",
    "[Simplex Algorithm](https://en.wikipedia.org/wiki/Simplex_algorithm)"
   ]
  },
  {
   "cell_type": "code",
   "execution_count": 7,
   "id": "4693cfcf",
   "metadata": {},
   "outputs": [
    {
     "name": "stdout",
     "output_type": "stream",
     "text": [
      "Gurobi Optimizer version 9.5.1 build v9.5.1rc2 (win64)\n",
      "Thread count: 6 physical cores, 12 logical processors, using up to 12 threads\n",
      "Optimize a model with 2 rows, 2 columns and 4 nonzeros\n",
      "Model fingerprint: 0x4cef9fec\n",
      "Variable types: 0 continuous, 2 integer (2 binary)\n",
      "Coefficient statistics:\n",
      "  Matrix range     [1e+00, 2e+00]\n",
      "  Objective range  [1e+00, 2e+00]\n",
      "  Bounds range     [1e+00, 1e+00]\n",
      "  RHS range        [1e+00, 4e+00]\n",
      "Found heuristic solution: objective 3.0000000\n",
      "\n",
      "Explored 0 nodes (0 simplex iterations) in 0.01 seconds (0.00 work units)\n",
      "Thread count was 1 (of 12 available processors)\n",
      "\n",
      "Solution count 1: 3 \n",
      "\n",
      "Optimal solution found (tolerance 1.00e-04)\n",
      "Best objective 3.000000000000e+00, best bound 3.000000000000e+00, gap 0.0000%\n"
     ]
    }
   ],
   "source": [
    "# Optimize model\n",
    "m.optimize()"
   ]
  },
  {
   "cell_type": "markdown",
   "id": "cf72e58d",
   "metadata": {},
   "source": [
    "### Solution\n",
    "\n",
    "Gurobi's console output above contains statistics about the solving method and problem size. You will explore this in more depth in the scheduling tutorial. For now, let's just get our solution. We can query a completed model for variable values, optimization status and more."
   ]
  },
  {
   "cell_type": "code",
   "execution_count": 8,
   "id": "bfb63dd9",
   "metadata": {},
   "outputs": [
    {
     "name": "stdout",
     "output_type": "stream",
     "text": [
      "x 1\n",
      "y 1\n",
      "Obj: 3\n"
     ]
    }
   ],
   "source": [
    "# .VarName returns the assigned name, .X returns the calculated value from optimization\n",
    "for v in m.getVars():\n",
    "    print('%s %g' % (v.VarName, v.X))\n",
    "\n",
    "print('Obj: %g' % m.ObjVal)"
   ]
  },
  {
   "cell_type": "markdown",
   "id": "276c1eed",
   "metadata": {},
   "source": [
    "As we expected, our best value of the objective subject to our matrix constraints and variable bounds occurs at $(1,1)$. For scheduling, we rarely even care about the actual value of our abstract *objective*, only the parameters that achieve it!"
   ]
  },
  {
   "cell_type": "code",
   "execution_count": null,
   "id": "4f300e6d",
   "metadata": {},
   "outputs": [],
   "source": []
  }
 ],
 "metadata": {
  "kernelspec": {
   "display_name": "Python 3",
   "language": "python",
   "name": "python3"
  },
  "language_info": {
   "codemirror_mode": {
    "name": "ipython",
    "version": 3
   },
   "file_extension": ".py",
   "mimetype": "text/x-python",
   "name": "python",
   "nbconvert_exporter": "python",
   "pygments_lexer": "ipython3",
   "version": "3.9.4 (tags/v3.9.4:1f2e308, Apr  6 2021, 13:40:21) [MSC v.1928 64 bit (AMD64)]"
  },
  "vscode": {
   "interpreter": {
    "hash": "5cb56814e27ad9df1f301f38f99c57a701d33e194d0ce2702a57e9b01a44706a"
   }
  }
 },
 "nbformat": 4,
 "nbformat_minor": 5
}
