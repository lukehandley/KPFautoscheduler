{
 "cells": [
  {
   "cell_type": "markdown",
   "id": "a781cc4f",
   "metadata": {},
   "source": [
    "# Cadenced Scheduling in Gurobi\n",
    "\n",
    "<br>\n",
    "This notebook will introduce you to a simple scheduling task in which you must determine the optimal means to monitor a list of targets. We will focus on the semester-scale 'top level' of the KPF scheduler, in which we require the cadenced monitoring of targets at or near a specified interval."
   ]
  },
  {
   "cell_type": "code",
   "execution_count": 1,
   "id": "06bfda64",
   "metadata": {},
   "outputs": [
    {
     "name": "stdout",
     "output_type": "stream",
     "text": [
      "Set parameter Username\n",
      "Academic license - for non-commercial use only - expires 2023-07-05\n"
     ]
    }
   ],
   "source": [
    "import gurobipy as gp\n",
    "from gurobipy import GRB\n",
    "\n",
    "# Create a new model\n",
    "Mod = gp.Model(\"Cadenced Schedule\")"
   ]
  },
  {
   "cell_type": "markdown",
   "id": "9e20d5b4",
   "metadata": {},
   "source": [
    "Given a list of $n$ targets denoted as $r \\in R$ where $R = \\{0,1,...,n-1\\}$, with priorities $p_{r}$, we seek the optimal schedule to maximize the scientific ouput (observations * priority). Each target has a required interval $c_{r}$ after being observed that must pass before it may be targeted again."
   ]
  },
  {
   "cell_type": "code",
   "execution_count": 2,
   "id": "68d34172",
   "metadata": {},
   "outputs": [],
   "source": [
    "#Set number of targets\n",
    "n = 5\n",
    "\n",
    "#Observational priorities\n",
    "p = [1,2,3,3,2]\n",
    "\n",
    "#Minimum separation (days)\n",
    "c = [2,4,7,2,3]\n",
    "\n",
    "#Identifiers for indexing\n",
    "target_ids = range(n)"
   ]
  },
  {
   "cell_type": "markdown",
   "id": "c56fa070",
   "metadata": {},
   "source": [
    "We can set up a simple framework of $m$ slots to schedule observations, denoted as $t \\in T$, where $T = \\{0,1,...,m-1\\}$. Let's work with 50 consecutive days of observation, and suppose each day permits up to two observations. While simple, this can be easily generalized to larger problems. "
   ]
  },
  {
   "cell_type": "code",
   "execution_count": 3,
   "id": "00e25a85",
   "metadata": {},
   "outputs": [],
   "source": [
    "#Number of slots\n",
    "m = 50\n",
    "\n",
    "#Identifiers\n",
    "slots = range(m)"
   ]
  },
  {
   "cell_type": "markdown",
   "id": "0feb5ff1",
   "metadata": {},
   "source": [
    "Now we create $\\textit{reservations}$, combinations of the form $(r,t)$ where we allow target $r$ to be scheduled on night $t$. In practice, you might determine this by target accessibility in the astroplan package, using celestial coordinates and time of year. For now, I'll assume our targets are all accessible on every night."
   ]
  },
  {
   "cell_type": "code",
   "execution_count": 4,
   "id": "863a3b49",
   "metadata": {},
   "outputs": [],
   "source": [
    "#Assume all slots are available to each target\n",
    "reservations = []\n",
    "for r in target_ids:\n",
    "    for t in slots:\n",
    "        reservations.append((r,t))\n",
    "        \n",
    "#Define a dictionary containing the slot separations of any two given slots in T\n",
    "from collections import defaultdict\n",
    "import numpy as np\n",
    "\n",
    "deltadict = defaultdict(list)\n",
    "for t in slots:\n",
    "    for tau in slots:\n",
    "        if tau <= t: \n",
    "            continue\n",
    "        delta = np.abs(tau - t)\n",
    "        deltadict[delta].append((t,tau))"
   ]
  },
  {
   "cell_type": "markdown",
   "id": "c742acb8",
   "metadata": {},
   "source": [
    "Now we initialize some binary decision variables. Let's define $Y_{rt} = 1$ if target $r$ is successfully scheduled to slot $t$, and $Y_{rt} = 0$ otherwise. Let's further define $B_{rt\\tau} = 1$ if target $r$ is scheduled to $\\textit{both}$ slots $t$ and another slot $\\tau \\in T \\setminus \\{t\\}$, and $B_{rt\\tau} = 0$ otherwise. Finally, $D_{r\\delta} = 1$ if target $r$ is observed in any two slots with separation $\\delta = |\\tau - t|$."
   ]
  },
  {
   "cell_type": "code",
   "execution_count": 5,
   "id": "5a248125",
   "metadata": {},
   "outputs": [],
   "source": [
    "#Initialize multidimensional variables (matrices) by specifying the dimensions (x1,x2,..)\n",
    "Y = Mod.addVars(target_ids, slots, vtype = GRB.BINARY, name = 'Y')\n",
    "B = Mod.addVars(target_ids, slots, slots, vtype = GRB.BINARY, name = 'B')\n",
    "D = Mod.addVars(target_ids, deltadict.keys(), vtype=GRB.BINARY, name = 'D')"
   ]
  },
  {
   "cell_type": "markdown",
   "id": "045f5e89",
   "metadata": {},
   "source": [
    "### Variable Defining Constraints\n",
    "This model will have four different constraints. Two of these constraints are required to construct the definitions of $B$ and $D$, and two are used to for constraining the form of our schedule. Lets start by establishing the relationships between $Y$, $B$, and $D$. Thankfully, Gurobi has constraint functions that can interpret logical arguments to make $\\textit{and}$ and $\\textit{or}$ logic easy to implement when defining their functions."
   ]
  },
  {
   "cell_type": "code",
   "execution_count": 6,
   "id": "a0c181f4",
   "metadata": {},
   "outputs": [],
   "source": [
    "#Assign a B to every pair of Y's, such that if Y is activated for two slots, B will activate\n",
    "for r in target_ids:\n",
    "    for t in slots:\n",
    "        for tau in slots:\n",
    "            if tau < t:\n",
    "                continue\n",
    "            Mod.addGenConstrAnd(B[r,t,tau],[Y[r,t],Y[r,tau]],\n",
    "                              \"slotdiff_and_{}_{}_{}\".format(r,t,tau))\n",
    "\n",
    "#Assign a D to every B with slots separated by a distance delta\n",
    "for r in target_ids:\n",
    "    for delta in deltadict.keys():\n",
    "        Mod.addGenConstrOr(D[r,delta], \n",
    "           [B[r,t,t2] for (t,t2) in deltadict[delta]],\n",
    "            \"slot_delta_indicator_{}_{}\".format(r,delta))"
   ]
  },
  {
   "cell_type": "markdown",
   "id": "05264dd1",
   "metadata": {},
   "source": [
    "### Problem-Driven Constraints\n",
    "Now we can enforce the constraints that define our formulation. We want to limit the number of observations that can be scheduled per day to two, and enforce our minimum cadence requirement"
   ]
  },
  {
   "cell_type": "code",
   "execution_count": 7,
   "id": "10c7b990",
   "metadata": {},
   "outputs": [],
   "source": [
    "#Two per slot (night)\n",
    "constr_two_targs = Mod.addConstrs((Y.sum('*',t) <= 2 for t in slots), 'constr_two_targs')\n",
    "\n",
    "#If the distance between slots is less than our minimum, set D[r,delta] = 0\n",
    "#This will force B[r,t,tau] = 0, and thus Y[r,t] = Y[r,tau] = 0 \n",
    "constr_min_slotsep = Mod.addConstrs((D[r,delta] == 0 for r in target_ids for delta in deltadict.keys() \n",
    "                                   if delta < (c[r])), 'constr_min_slot_sep')"
   ]
  },
  {
   "cell_type": "markdown",
   "id": "384cfdab",
   "metadata": {},
   "source": [
    "### Objective\n",
    "Now we need to set the objective. We'll assume our goal is to maximize the number of observed targets times their respective priorities, and calculate the schedule."
   ]
  },
  {
   "cell_type": "code",
   "execution_count": 8,
   "id": "5ef1e693",
   "metadata": {
    "scrolled": true
   },
   "outputs": [
    {
     "name": "stdout",
     "output_type": "stream",
     "text": [
      "Set parameter TimeLimit to value 120\n",
      "Gurobi Optimizer version 9.5.1 build v9.5.1rc2 (win64)\n",
      "Thread count: 6 physical cores, 12 logical processors, using up to 12 threads\n",
      "Optimize a model with 63 rows, 12995 columns and 263 nonzeros\n",
      "Model fingerprint: 0x56987e6c\n",
      "Model has 6620 general constraints\n",
      "Variable types: 0 continuous, 12995 integer (12995 binary)\n",
      "Coefficient statistics:\n",
      "  Matrix range     [1e+00, 1e+00]\n",
      "  Objective range  [1e+00, 3e+00]\n",
      "  Bounds range     [1e+00, 1e+00]\n",
      "  RHS range        [2e+00, 2e+00]\n",
      "Found heuristic solution: objective -0.0000000\n",
      "Presolve added 16745 rows and 0 columns\n",
      "Presolve removed 0 rows and 7238 columns\n",
      "Presolve time: 0.31s\n",
      "Presolved: 16808 rows, 5757 columns, 39635 nonzeros\n",
      "Variable types: 0 continuous, 5757 integer (5757 binary)\n",
      "Found heuristic solution: objective 171.0000000\n",
      "\n",
      "Root relaxation: objective 1.808571e+02, 6983 iterations, 1.21 seconds (1.08 work units)\n",
      "\n",
      "    Nodes    |    Current Node    |     Objective Bounds      |     Work\n",
      " Expl Unexpl |  Obj  Depth IntInf | Incumbent    BestBd   Gap | It/Node Time\n",
      "\n",
      "     0     0  180.85714    0  212  171.00000  180.85714  5.76%     -    2s\n",
      "     0     0  180.80000    0 1328  171.00000  180.80000  5.73%     -    6s\n",
      "     0     0  180.33333    0 1834  171.00000  180.33333  5.46%     -   10s\n",
      "H    0     0                     172.0000000  180.20000  4.77%     -   14s\n",
      "     0     0  180.00000    0 1581  172.00000  180.00000  4.65%     -   15s\n",
      "     0     0  180.00000    0  846  172.00000  180.00000  4.65%     -   16s\n",
      "     0     2  180.00000    0  846  172.00000  180.00000  4.65%     -   44s\n",
      "     1     4  180.00000    1 1467  172.00000  180.00000  4.65%  3461   45s\n",
      "     7    14  180.00000    3  588  172.00000  180.00000  4.65%  3200   53s\n",
      "    13    20  179.66667    4 1275  172.00000  180.00000  4.65%  3482   58s\n",
      "    19    26  179.80000    4 1222  172.00000  179.96552  4.63%  3391   62s\n",
      "    31    39  179.44503    5 2065  172.00000  179.96552  4.63%  2862   66s\n",
      "    55    65  179.33333    7 1138  172.00000  179.96552  4.63%  2221   71s\n",
      "H   64    79                     173.0000000  179.96552  4.03%  2084   72s\n",
      "H   77    79                     174.0000000  179.96552  3.43%  1877   72s\n",
      "*   78    79              12     176.0000000  179.96552  2.25%  1862   72s\n",
      "   108    78  178.60000   10 1349  176.00000  179.96552  2.25%  1539   78s\n",
      "   115    93  178.33333   10 1434  176.00000  179.96552  2.25%  1629   80s\n",
      "   165   121  177.16667   13 1570  176.00000  179.96552  2.25%  1365   85s\n",
      "   196   122  177.50000   15  839  176.00000  179.96552  2.25%  1259   90s\n",
      "   229   125  177.00000   17  773  176.00000  179.96552  2.25%  1230   97s\n",
      "   240   132  177.00000   18  834  176.00000  179.96552  2.25%  1237  100s\n",
      "   266   141  177.00000   19  828  176.00000  179.96552  2.25%  1247  111s\n",
      "   294   159     cutoff   23       176.00000  179.86364  2.20%  1234  119s\n",
      "   314   160  179.68286    5 1621  176.00000  179.86364  2.20%  1233  120s\n",
      "\n",
      "Cutting planes:\n",
      "  Gomory: 4\n",
      "  Implied bound: 2846\n",
      "  Zero half: 858\n",
      "  RLT: 1599\n",
      "  BQP: 4680\n",
      "\n",
      "Explored 315 nodes (410201 simplex iterations) in 120.05 seconds (96.87 work units)\n",
      "Thread count was 12 (of 12 available processors)\n",
      "\n",
      "Solution count 6: 176 174 173 ... -0\n",
      "\n",
      "Time limit reached\n",
      "Best objective 1.760000000000e+02, best bound 1.790000000000e+02, gap 1.7045%\n"
     ]
    }
   ],
   "source": [
    "Mod.setObjective(gp.quicksum(p[r]*Y[r,t] for r in target_ids for t in slots), GRB.MAXIMIZE)\n",
    "\n",
    "#Limit how long we want to run\n",
    "Mod.params.TimeLimit = 120\n",
    "Mod.update()\n",
    "Mod.optimize()"
   ]
  },
  {
   "cell_type": "markdown",
   "id": "ea2f4689",
   "metadata": {},
   "source": [
    "### Gurobi Output\n",
    "After our time limit ends, the optimization will halt. The best possible solution found will be assigned to the model variable at that time. Let's examine the ouput in detail, line by line.\n",
    "\n",
    "'Set parameter TimeLimit to value 100'"
   ]
  },
  {
   "cell_type": "code",
   "execution_count": 9,
   "id": "e1ffda46",
   "metadata": {},
   "outputs": [],
   "source": [
    "#Query the solved parameters\n",
    "scheduled_targets = defaultdict(list)\n",
    "for v in Y.values():\n",
    "    \n",
    "    #Values retrieved from Model object often encounter precision, round to integer\n",
    "    if np.round(v.X,0) == 1:\n",
    "        indeces = v.VarName[2:][:-1].split(',')\n",
    "        \n",
    "        #Keys are dates/slots, values are targets assigned to that key\n",
    "        scheduled_targets[int(indeces[1])].append(int(indeces[0]))"
   ]
  },
  {
   "cell_type": "markdown",
   "id": "cd90d077",
   "metadata": {},
   "source": [
    "Now, we can plot our results based upon the slots assigned by the optimization. Each day will be filled with colors corresponding to the observed targets' indeces."
   ]
  },
  {
   "cell_type": "code",
   "execution_count": 15,
   "id": "a5e69174",
   "metadata": {},
   "outputs": [
    {
     "data": {
      "text/plain": [
       "Text(0.5, 1.0, 'Visualizing 50 Days of Scheduling')"
      ]
     },
     "execution_count": 15,
     "metadata": {},
     "output_type": "execute_result"
    },
    {
     "data": {
      "image/png": "[encoded data removed]",
      "text/plain": [
       "<Figure size 864x288 with 1 Axes>"
      ]
     },
     "metadata": {
      "needs_background": "light"
     },
     "output_type": "display_data"
    }
   ],
   "source": [
    "import matplotlib.pyplot as plt\n",
    "\n",
    "fig,axs = plt.subplots(1,figsize=(12,4))\n",
    "axs.set_xlim(-2,65)\n",
    "\n",
    "#Unique colors for each target\n",
    "target_colors = ['lightcoral','firebrick','maroon','red','tomato']\n",
    "\n",
    "for day in scheduled_targets.keys():\n",
    "    axs.fill_between([day,day+1],0,.5,color=target_colors[scheduled_targets[day][0]],\n",
    "                     label='c = {},p = {}'.format(c[scheduled_targets[day][0]],p[scheduled_targets[day][0]]))\n",
    "    if len(scheduled_targets[day]) == 2:\n",
    "        axs.fill_between([day,day+1],.5,1,color=target_colors[scheduled_targets[day][1]],\n",
    "                        label='c = {},p = {}'.format(c[scheduled_targets[day][1]],p[scheduled_targets[day][1]]))\n",
    "        \n",
    "handles, labels = plt.gca().get_legend_handles_labels()\n",
    "by_label = dict(zip(labels, handles))\n",
    "plt.legend(by_label.values(), by_label.keys())\n",
    "\n",
    "axs.set_yticks([])\n",
    "axs.set_xticks([0,10,20,30,40,50])\n",
    "axs.set_xlabel('Date of Observation')\n",
    "axs.set_ylabel('Targets Scheduled')\n",
    "axs.set_title('Visualizing 50 Days of Scheduling')"
   ]
  },
  {
   "cell_type": "code",
   "execution_count": null,
   "id": "5355b98c",
   "metadata": {},
   "outputs": [],
   "source": []
  }
 ],
 "metadata": {
  "kernelspec": {
   "display_name": "Python 3 (ipykernel)",
   "language": "python",
   "name": "python3"
  },
  "language_info": {
   "codemirror_mode": {
    "name": "ipython",
    "version": 3
   },
   "file_extension": ".py",
   "mimetype": "text/x-python",
   "name": "python",
   "nbconvert_exporter": "python",
   "pygments_lexer": "ipython3",
   "version": "3.9.4"
  }
 },
 "nbformat": 4,
 "nbformat_minor": 5
}
